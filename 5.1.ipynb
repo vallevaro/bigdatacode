{
  "cells": [
    {
      "cell_type": "markdown",
      "metadata": {},
      "source": [
        "---\n",
        "<span style=\"color:#000; font-family: 'Bebas Neue'; font-size: 2em;\">BIG DATA</span>\n",
        "\n",
        "<span style=\"color:#f00; font-family: 'Bebas Neue'; font-size: 1.5em;\">Unit 4:RS/span>\n",
        "\n",
        "<span style=\"color:#300; font-family: 'Bebas Neue'; font-size: 1.5em;\">Basics in Python</span>\n",
        "<h4 style=\"color:darkblue\"> Universidad de Deusto</h4>\n",
        "\n",
        "<span style=\"color:#300; font-family: 'Bebas Neue'; font-size: 1em;\">m.varo@deusto.es</span>\n",
        "\n",
        "<img src=\"https://www.ciberseguridad.eus/sites/default/files/company_logos/deusto-logo.png\" alt=\"drawing\" style=\"width:200px;\"/>\n",
        "\n",
        "<h5 style=\"color:black\">  11 March 2025 - Donostia </h5>\n",
        "\n",
        "---"
      ]
    },
    {
      "cell_type": "markdown",
      "metadata": {
        "id": "MqktDa7H2hKz"
      },
      "source": [
        "## 1. Setup"
      ]
    },
    {
      "cell_type": "code",
      "execution_count": 2,
      "metadata": {
        "colab": {
          "base_uri": "https://localhost:8080/"
        },
        "id": "YqKrDcGH2k7E",
        "outputId": "400871a0-0642-460c-c762-1de000470496"
      },
      "outputs": [
        {
          "name": "stdout",
          "output_type": "stream",
          "text": [
            "System version: 3.12.3 (main, Feb  4 2025, 14:48:35) [GCC 13.3.0]\n",
            "Cornac version: 2.3.0\n"
          ]
        }
      ],
      "source": [
        "import os\n",
        "import sys\n",
        "\n",
        "import cornac\n",
        "import numpy as np\n",
        "import pandas as pd\n",
        "import matplotlib.pyplot as plt\n",
        "import seaborn as sns\n",
        "from scipy import stats, sparse\n",
        "\n",
        "%matplotlib inline\n",
        "\n",
        "print(f\"System version: {sys.version}\")\n",
        "print(f\"Cornac version: {cornac.__version__}\")"
      ]
    },
    {
      "cell_type": "markdown",
      "metadata": {
        "id": "E8nIDnXO4_6e"
      },
      "source": [
        "## 2. Data Exploration\n",
        "\n",
        "We begin by exploring [MovieLens](https://grouplens.org/datasets/movielens/), which is a popular benchmark dataset used in many studies on recommender systems.  There are several variants of different sizes, i.e., 100K, 1M, 10M, and 20M.  For the purpose of demonstration, we start with the smallest one with 100K ratings.  This dataset is built into and can be loaded from within the Cornac library, which also contains [other datasets](https://github.com/PreferredAI/cornac/blob/master/cornac/datasets/README.md) as well.\n",
        "\n",
        "Most of the time we will see each instance in a recommendation dataset being represented in the form of a triplet (*user_id*, *item_id*, *rating*).  For this MovieLens dataset, the rating values are in the range {1, 2, 3, 4, 5}."
      ]
    },
    {
      "cell_type": "code",
      "execution_count": 3,
      "metadata": {
        "colab": {
          "base_uri": "https://localhost:8080/",
          "height": 292,
          "referenced_widgets": [
            "c735295c488544daa9ea27ba7fffc1c8",
            "9497a8b2689f40b687abc9c9cca92209",
            "777898bbb3f84349bd71939b276957ad",
            "9a8b3d660f9548c7a4d0acb1c571cb63",
            "3bbdcc0fea2849bcab9031371a528138",
            "21762de1d7b840a0b63aadde5041a363",
            "887197cea23041b79d77a6ab702a0f57",
            "46859c6d969946009c05b6f0fa5ad44e",
            "34ae2cb36fb14f75b2d752b7cca424ad",
            "b7bd5392580e4ee899899240b81d484b",
            "c5ef9a40c8554a54a5423bf6ade6041b"
          ]
        },
        "id": "sb5PEaHl4RnT",
        "outputId": "44af07b8-407a-4ea2-dfe0-177379b2618a"
      },
      "outputs": [
        {
          "data": {
            "application/vnd.microsoft.datawrangler.viewer.v0+json": {
              "columns": [
                {
                  "name": "index",
                  "rawType": "int64",
                  "type": "integer"
                },
                {
                  "name": "user_id",
                  "rawType": "object",
                  "type": "string"
                },
                {
                  "name": "item_id",
                  "rawType": "object",
                  "type": "string"
                },
                {
                  "name": "rating",
                  "rawType": "float64",
                  "type": "float"
                }
              ],
              "conversionMethod": "pd.DataFrame",
              "ref": "f6a3e014-bacd-40ce-a62b-6f48052ff9d1",
              "rows": [
                [
                  "0",
                  "196",
                  "242",
                  "3.0"
                ],
                [
                  "1",
                  "186",
                  "302",
                  "3.0"
                ],
                [
                  "2",
                  "22",
                  "377",
                  "1.0"
                ],
                [
                  "3",
                  "244",
                  "51",
                  "2.0"
                ],
                [
                  "4",
                  "166",
                  "346",
                  "1.0"
                ]
              ],
              "shape": {
                "columns": 3,
                "rows": 5
              }
            },
            "text/html": [
              "<div>\n",
              "<style scoped>\n",
              "    .dataframe tbody tr th:only-of-type {\n",
              "        vertical-align: middle;\n",
              "    }\n",
              "\n",
              "    .dataframe tbody tr th {\n",
              "        vertical-align: top;\n",
              "    }\n",
              "\n",
              "    .dataframe thead th {\n",
              "        text-align: right;\n",
              "    }\n",
              "</style>\n",
              "<table border=\"1\" class=\"dataframe\">\n",
              "  <thead>\n",
              "    <tr style=\"text-align: right;\">\n",
              "      <th></th>\n",
              "      <th>user_id</th>\n",
              "      <th>item_id</th>\n",
              "      <th>rating</th>\n",
              "    </tr>\n",
              "  </thead>\n",
              "  <tbody>\n",
              "    <tr>\n",
              "      <th>0</th>\n",
              "      <td>196</td>\n",
              "      <td>242</td>\n",
              "      <td>3.0</td>\n",
              "    </tr>\n",
              "    <tr>\n",
              "      <th>1</th>\n",
              "      <td>186</td>\n",
              "      <td>302</td>\n",
              "      <td>3.0</td>\n",
              "    </tr>\n",
              "    <tr>\n",
              "      <th>2</th>\n",
              "      <td>22</td>\n",
              "      <td>377</td>\n",
              "      <td>1.0</td>\n",
              "    </tr>\n",
              "    <tr>\n",
              "      <th>3</th>\n",
              "      <td>244</td>\n",
              "      <td>51</td>\n",
              "      <td>2.0</td>\n",
              "    </tr>\n",
              "    <tr>\n",
              "      <th>4</th>\n",
              "      <td>166</td>\n",
              "      <td>346</td>\n",
              "      <td>1.0</td>\n",
              "    </tr>\n",
              "  </tbody>\n",
              "</table>\n",
              "</div>"
            ],
            "text/plain": [
              "  user_id item_id  rating\n",
              "0     196     242     3.0\n",
              "1     186     302     3.0\n",
              "2      22     377     1.0\n",
              "3     244      51     2.0\n",
              "4     166     346     1.0"
            ]
          },
          "execution_count": 3,
          "metadata": {},
          "output_type": "execute_result"
        }
      ],
      "source": [
        "data = cornac.datasets.movielens.load_feedback(variant=\"100K\")\n",
        "df = pd.DataFrame(data, columns=[\"user_id\", \"item_id\", \"rating\"])\n",
        "df.head()"
      ]
    },
    {
      "cell_type": "code",
      "execution_count": 4,
      "metadata": {
        "colab": {
          "base_uri": "https://localhost:8080/"
        },
        "id": "NvP03a6CB9tG",
        "outputId": "93c49280-d309-450c-b224-e43356e7d4a7"
      },
      "outputs": [
        {
          "name": "stdout",
          "output_type": "stream",
          "text": [
            "Number of ratings: 100000\n",
            "Number of users: 943\n",
            "Number of items: 1682\n"
          ]
        }
      ],
      "source": [
        "print(f\"Number of ratings: {len(df)}\")\n",
        "print(f\"Number of users: {df.user_id.nunique()}\")\n",
        "print(f\"Number of items: {df.item_id.nunique()}\")"
      ]
    },
    {
      "cell_type": "markdown",
      "metadata": {
        "id": "0ogkNd8_6qhR"
      },
      "source": [
        "### Rating Statistics\n",
        "\n",
        "Let's see some basic statistics of the rating values."
      ]
    },
    {
      "cell_type": "code",
      "execution_count": 5,
      "metadata": {
        "colab": {
          "base_uri": "https://localhost:8080/"
        },
        "id": "K2CEA6Gj_0Xk",
        "outputId": "2093dda9-145d-4754-ec84-2ddb25e1dd35"
      },
      "outputs": [
        {
          "data": {
            "text/plain": [
              "count    100000.000000\n",
              "mean          3.529860\n",
              "std           1.125674\n",
              "min           1.000000\n",
              "25%           3.000000\n",
              "50%           4.000000\n",
              "75%           4.000000\n",
              "max           5.000000\n",
              "Name: rating, dtype: float64"
            ]
          },
          "execution_count": 5,
          "metadata": {},
          "output_type": "execute_result"
        }
      ],
      "source": [
        "df.rating.describe()"
      ]
    },
    {
      "cell_type": "markdown",
      "metadata": {
        "id": "KTU110zoCxL_"
      },
      "source": [
        "We can plot these rating values to see how it's being distributed.  \n",
        "\n",
        "*   The 1st figure below shows a histogram of the frequency of each rating.\n",
        "*   The 2nd figure describes the same distribution in the form of box plot.\n",
        "\n",
        "Generally, more than 50% of the rating values lie between {3, 4}, rating 5 is also common, while {1, 2} are less likely. "
      ]
    },
    {
      "cell_type": "code",
      "execution_count": 6,
      "metadata": {
        "colab": {
          "base_uri": "https://localhost:8080/",
          "height": 456
        },
        "id": "yRFavS6Z6Eef",
        "outputId": "1110ef6b-e13e-46bc-aedc-078acf0356ca"
      },
      "outputs": [
        {
          "name": "stderr",
          "output_type": "stream",
          "text": [
            "/tmp/ipykernel_769/895087807.py:2: FutureWarning: \n",
            "\n",
            "Passing `palette` without assigning `hue` is deprecated and will be removed in v0.14.0. Assign the `x` variable to `hue` and set `legend=False` for the same effect.\n",
            "\n",
            "  sns.countplot(x=\"rating\", data=df, palette=\"ch:.25\", ax=axes[0])\n",
            "/tmp/ipykernel_769/895087807.py:3: FutureWarning: \n",
            "\n",
            "Passing `palette` without assigning `hue` is deprecated and will be removed in v0.14.0. Assign the `y` variable to `hue` and set `legend=False` for the same effect.\n",
            "\n",
            "  sns.boxplot(x=\"rating\", data=df, palette=\"ch:.25\", ax=axes[1])\n"
          ]
        },
        {
          "data": {
            "text/plain": [
              "<Axes: xlabel='rating'>"
            ]
          },
          "execution_count": 6,
          "metadata": {},
          "output_type": "execute_result"
        },
        {
          "data": {
            "image/png": "[encoded data removed]",
            "text/plain": [
              "<Figure size 1400x500 with 2 Axes>"
            ]
          },
          "metadata": {},
          "output_type": "display_data"
        }
      ],
      "source": [
        "fig, axes = plt.subplots(nrows=1, ncols=2, figsize=(14, 5))\n",
        "sns.countplot(x=\"rating\", data=df, palette=\"ch:.25\", ax=axes[0])\n",
        "sns.boxplot(x=\"rating\", data=df, palette=\"ch:.25\", ax=axes[1])"
      ]
    },
    {
      "cell_type": "markdown",
      "metadata": {
        "id": "bEl-Val6AATX"
      },
      "source": [
        "### Data Sparsity\n",
        "\n",
        "Data sparsity is a measure of how much data we do *not* observe.  It is generally a challenge in learning from data.  The concern is whether we have sufficient information to build a model that can accurately capture the general distribution of the data.\n",
        "\n",
        "For recommender systems in particular, data sparsity is expressed as the number of missing ratings divided by the total number of possible ratings.  This total is the number of users multiplied by the number of items.  In many recommendation datasets, a user only gives ratings to a limited number of items.\n"
      ]
    },
    {
      "cell_type": "code",
      "execution_count": 7,
      "metadata": {
        "colab": {
          "base_uri": "https://localhost:8080/"
        },
        "id": "dMxRFTCZb7Nl",
        "outputId": "50266255-a1ec-4b7a-b009-ba94c1afb9a5"
      },
      "outputs": [
        {
          "name": "stdout",
          "output_type": "stream",
          "text": [
            "Number of users: 943\n",
            "Number of items: 1682\n",
            "Number of available ratings: 100000\n",
            "Number of all possible ratings: 1586126\n",
            "----------------------------------------\n",
            "SPARSITY: 93.70%\n"
          ]
        }
      ],
      "source": [
        "n_users = df.user_id.nunique()\n",
        "n_items = df.item_id.nunique()\n",
        "n_ratings = len(df)\n",
        "rating_matrix_size = n_users * n_items\n",
        "sparsity = 1 - n_ratings / rating_matrix_size\n",
        "\n",
        "print(f\"Number of users: {n_users}\")\n",
        "print(f\"Number of items: {n_items}\")\n",
        "print(f\"Number of available ratings: {n_ratings}\")\n",
        "print(f\"Number of all possible ratings: {rating_matrix_size}\")\n",
        "print(\"-\" * 40)\n",
        "print(f\"SPARSITY: {sparsity * 100.0:.2f}%\")"
      ]
    },
    {
      "cell_type": "markdown",
      "metadata": {
        "id": "rr4DfqtKNEP6"
      },
      "source": [
        "For this MovieLens dataset, the data has been prepared in such a way that each user has at least 20 ratings. As a result, it's relatively dense as compared to many other recommendation datasets that are usually much sparser (often 99% or more).  "
      ]
    },
    {
      "cell_type": "markdown",
      "metadata": {
        "id": "_lsIYji1AdLE"
      },
      "source": [
        "### Power-Law Distribution\n",
        "\n",
        "In recommendation, another important phenomenom is a [power-law/long-tailed distribution](https://en.wikipedia.org/wiki/Power_law).  It implies that some of the items are very popular and frequently rated by users, while most of the other items are rated by very few users.\n",
        "\n",
        "First, we count the number of ratings by item.  Shown below are the top 10 rated items."
      ]
    },
    {
      "cell_type": "code",
      "execution_count": 8,
      "metadata": {
        "colab": {
          "base_uri": "https://localhost:8080/"
        },
        "id": "RSDMsfx3BE8M",
        "outputId": "49aed74d-5501-4dc7-dddd-8fdda8204f38"
      },
      "outputs": [
        {
          "data": {
            "text/plain": [
              "item_id\n",
              "50     583\n",
              "258    509\n",
              "100    508\n",
              "181    507\n",
              "294    485\n",
              "286    481\n",
              "288    478\n",
              "1      452\n",
              "300    431\n",
              "121    429\n",
              "Name: user_id, dtype: int64"
            ]
          },
          "execution_count": 8,
          "metadata": {},
          "output_type": "execute_result"
        }
      ],
      "source": [
        "item_rate_count = df.groupby(\"item_id\")[\"user_id\"].nunique().sort_values(ascending=False)\n",
        "item_rate_count.head(10)"
      ]
    },
    {
      "cell_type": "markdown",
      "metadata": {
        "id": "2AtQ6i0pQcdN"
      },
      "source": [
        "For contrast, let's see the list of 10 least rated items.  All of them are only rated by 1 user."
      ]
    },
    {
      "cell_type": "code",
      "execution_count": 9,
      "metadata": {
        "colab": {
          "base_uri": "https://localhost:8080/"
        },
        "id": "uliBlfUQQsH5",
        "outputId": "ceea074a-4d08-48cf-bb99-3856171f8fbe"
      },
      "outputs": [
        {
          "data": {
            "text/plain": [
              "item_id\n",
              "1580    1\n",
              "1581    1\n",
              "1582    1\n",
              "1583    1\n",
              "1584    1\n",
              "1586    1\n",
              "1587    1\n",
              "1363    1\n",
              "1364    1\n",
              "1604    1\n",
              "Name: user_id, dtype: int64"
            ]
          },
          "execution_count": 9,
          "metadata": {},
          "output_type": "execute_result"
        }
      ],
      "source": [
        "item_rate_count.tail(10)"
      ]
    },
    {
      "cell_type": "markdown",
      "metadata": {
        "id": "r8ojASrWRAiW"
      },
      "source": [
        "Below we visualize the rating count information.\n",
        "\n",
        "*   The 1st figure shows the number of ratings of each item. Items are sorted in descending values of the rating counts. Thus, the most popular item are leftmost.  The long-tailed shape discussed earlier is evident.\n",
        "*   The 2nd figure is the [log-log plot](https://en.wikipedia.org/wiki/Log%E2%80%93log_plot) showing the relationship between the number of ratings and the number of items (both in log scale).   The relationship is asymptotically linear, which is the main characteristic of a power-law distribution.\n",
        "\n"
      ]
    },
    {
      "cell_type": "code",
      "execution_count": 10,
      "metadata": {
        "colab": {
          "base_uri": "https://localhost:8080/",
          "height": 466
        },
        "id": "9MZ1E89vZnRt",
        "outputId": "b2c3a3d9-413a-4a38-c974-91d436166917"
      },
      "outputs": [
        {
          "data": {
            "image/png": "[encoded data removed]",
            "text/plain": [
              "<Figure size 1400x500 with 2 Axes>"
            ]
          },
          "metadata": {},
          "output_type": "display_data"
        }
      ],
      "source": [
        "fig, axes = plt.subplots(nrows=1, ncols=2, figsize=(14, 5))\n",
        "\n",
        "axes[0].bar(x=item_rate_count.index, height=item_rate_count.values, width=1.0, align=\"edge\")\n",
        "axes[0].set_xticks([])\n",
        "axes[0].set(title=\"long tail of rating frequency\", \n",
        "            xlabel=\"item ordered by decreasing frequency\", \n",
        "            ylabel=\"#ratings\")\n",
        "\n",
        "count = item_rate_count.value_counts()\n",
        "sns.scatterplot(x=np.log(count.index), y=np.log(count.values), ax=axes[1])\n",
        "axes[1].set(title=\"log-log plot\", xlabel=\"#ratings (log scale)\", ylabel=\"#items (log scale)\");"
      ]
    },
    {
      "cell_type": "markdown",
      "metadata": {
        "id": "0lzUa-5yePlS"
      },
      "source": [
        "## 3. Recommendation Based on Item Popularity\n",
        "\n",
        "Since some items are much more popular than the rest, intuitively many users may prefer these popular items.  From that observation, it inspires a simple approach for providing recommendations based on popularity (i.e., number of ratings) of the items.   \n",
        "\n",
        "Let's do a simple experiment with the popularity approach.  In this experiment, we will split the rating data into 5 folds for cross-validation.  For each run, 4 folds will be used for training and the remaining fold will be used for evaluation.  We measure the recommendation performance using Recall@20 metric."
      ]
    },
    {
      "cell_type": "code",
      "execution_count": 11,
      "metadata": {
        "colab": {
          "base_uri": "https://localhost:8080/"
        },
        "id": "SYc3vV3ZegV_",
        "outputId": "dd2a6f54-8c9e-4f9a-cd97-86fe873932bc"
      },
      "outputs": [
        {
          "name": "stdout",
          "output_type": "stream",
          "text": [
            "\n",
            "TEST:\n",
            "...\n",
            "[MostPop]\n",
            "       | Recall@20 | Train (s) | Test (s)\n",
            "------ + --------- + --------- + --------\n",
            "Fold 0 |    0.1673 |    0.0118 |   0.1385\n",
            "Fold 1 |    0.1730 |    0.0026 |   0.1494\n",
            "Fold 2 |    0.1736 |    0.0030 |   0.1811\n",
            "Fold 3 |    0.1655 |    0.0037 |   0.1472\n",
            "Fold 4 |    0.1633 |    0.0026 |   0.1374\n",
            "------ + --------- + --------- + --------\n",
            "Mean   |    0.1685 |    0.0048 |   0.1507\n",
            "Std    |    0.0041 |    0.0036 |   0.0159\n",
            "\n"
          ]
        }
      ],
      "source": [
        "# 5-fold cross validation\n",
        "eval_method = cornac.eval_methods.CrossValidation(data, n_folds=5, seed=42)\n",
        "\n",
        "# recommender system based on item popularity\n",
        "most_pop = cornac.models.MostPop()\n",
        "\n",
        "# recall@20 metric\n",
        "rec_20 = cornac.metrics.Recall(k=20)\n",
        "\n",
        "# put everything together into an experiment\n",
        "cornac.Experiment(eval_method=eval_method, models=[most_pop], metrics=[rec_20]).run()"
      ]
    },
    {
      "cell_type": "markdown",
      "metadata": {},
      "source": [
        "## References\n",
        "\n",
        "1.   Aggarwal, C. C. (2016). Recommender systems (Vol. 1). Cham: Springer International Publishing.\n",
        "2.   Breese, J. S., Heckerman, D., & Kadie, C. (2013). Empirical analysis of predictive algorithms for collaborative filtering. arXiv preprint arXiv:1301.7363.\n",
        "3.   Sarwar, B., Karypis, G., Konstan, J., & Riedl, J. (2001, April). Item-based collaborative filtering recommendation algorithms. In Proceedings of the 10th international conference on World Wide Web (pp. 285-295)."
      ]
    },
    {
      "cell_type": "code",
      "execution_count": null,
      "metadata": {},
      "outputs": [],
      "source": []
    }
  ],
  "metadata": {
    "colab": {
      "name": "01_introduction.ipynb",
      "provenance": []
    },
    "kernelspec": {
      "display_name": "bigdataenv",
      "language": "python",
      "name": "python3"
    },
    "language_info": {
      "codemirror_mode": {
        "name": "ipython",
        "version": 3
      },
      "file_extension": ".py",
      "mimetype": "text/x-python",
      "name": "python",
      "nbconvert_exporter": "python",
      "pygments_lexer": "ipython3",
      "version": "3.12.3"
    },
    "widgets": {
      "application/vnd.jupyter.widget-state+json": {
        "21762de1d7b840a0b63aadde5041a363": {
          "model_module": "@jupyter-widgets/base",
          "model_module_version": "1.2.0",
          "model_name": "LayoutModel",
          "state": {
            "_model_module": "@jupyter-widgets/base",
            "_model_module_version": "1.2.0",
            "_model_name": "LayoutModel",
            "_view_count": null,
            "_view_module": "@jupyter-widgets/base",
            "_view_module_version": "1.2.0",
            "_view_name": "LayoutView",
            "align_content": null,
            "align_items": null,
            "align_self": null,
            "border": null,
            "bottom": null,
            "display": null,
            "flex": null,
            "flex_flow": null,
            "grid_area": null,
            "grid_auto_columns": null,
            "grid_auto_flow": null,
            "grid_auto_rows": null,
            "grid_column": null,
            "grid_gap": null,
            "grid_row": null,
            "grid_template_areas": null,
            "grid_template_columns": null,
            "grid_template_rows": null,
            "height": null,
            "justify_content": null,
            "justify_items": null,
            "left": null,
            "margin": null,
            "max_height": null,
            "max_width": null,
            "min_height": null,
            "min_width": null,
            "object_fit": null,
            "object_position": null,
            "order": null,
            "overflow": null,
            "overflow_x": null,
            "overflow_y": null,
            "padding": null,
            "right": null,
            "top": null,
            "visibility": null,
            "width": null
          }
        },
        "34ae2cb36fb14f75b2d752b7cca424ad": {
          "model_module": "@jupyter-widgets/controls",
          "model_module_version": "1.5.0",
          "model_name": "ProgressStyleModel",
          "state": {
            "_model_module": "@jupyter-widgets/controls",
            "_model_module_version": "1.5.0",
            "_model_name": "ProgressStyleModel",
            "_view_count": null,
            "_view_module": "@jupyter-widgets/base",
            "_view_module_version": "1.2.0",
            "_view_name": "StyleView",
            "bar_color": null,
            "description_width": ""
          }
        },
        "3bbdcc0fea2849bcab9031371a528138": {
          "model_module": "@jupyter-widgets/base",
          "model_module_version": "1.2.0",
          "model_name": "LayoutModel",
          "state": {
            "_model_module": "@jupyter-widgets/base",
            "_model_module_version": "1.2.0",
            "_model_name": "LayoutModel",
            "_view_count": null,
            "_view_module": "@jupyter-widgets/base",
            "_view_module_version": "1.2.0",
            "_view_name": "LayoutView",
            "align_content": null,
            "align_items": null,
            "align_self": null,
            "border": null,
            "bottom": null,
            "display": null,
            "flex": null,
            "flex_flow": null,
            "grid_area": null,
            "grid_auto_columns": null,
            "grid_auto_flow": null,
            "grid_auto_rows": null,
            "grid_column": null,
            "grid_gap": null,
            "grid_row": null,
            "grid_template_areas": null,
            "grid_template_columns": null,
            "grid_template_rows": null,
            "height": null,
            "justify_content": null,
            "justify_items": null,
            "left": null,
            "margin": null,
            "max_height": null,
            "max_width": null,
            "min_height": null,
            "min_width": null,
            "object_fit": null,
            "object_position": null,
            "order": null,
            "overflow": null,
            "overflow_x": null,
            "overflow_y": null,
            "padding": null,
            "right": null,
            "top": null,
            "visibility": null,
            "width": null
          }
        },
        "46859c6d969946009c05b6f0fa5ad44e": {
          "model_module": "@jupyter-widgets/base",
          "model_module_version": "1.2.0",
          "model_name": "LayoutModel",
          "state": {
            "_model_module": "@jupyter-widgets/base",
            "_model_module_version": "1.2.0",
            "_model_name": "LayoutModel",
            "_view_count": null,
            "_view_module": "@jupyter-widgets/base",
            "_view_module_version": "1.2.0",
            "_view_name": "LayoutView",
            "align_content": null,
            "align_items": null,
            "align_self": null,
            "border": null,
            "bottom": null,
            "display": null,
            "flex": null,
            "flex_flow": null,
            "grid_area": null,
            "grid_auto_columns": null,
            "grid_auto_flow": null,
            "grid_auto_rows": null,
            "grid_column": null,
            "grid_gap": null,
            "grid_row": null,
            "grid_template_areas": null,
            "grid_template_columns": null,
            "grid_template_rows": null,
            "height": null,
            "justify_content": null,
            "justify_items": null,
            "left": null,
            "margin": null,
            "max_height": null,
            "max_width": null,
            "min_height": null,
            "min_width": null,
            "object_fit": null,
            "object_position": null,
            "order": null,
            "overflow": null,
            "overflow_x": null,
            "overflow_y": null,
            "padding": null,
            "right": null,
            "top": null,
            "visibility": null,
            "width": "20px"
          }
        },
        "777898bbb3f84349bd71939b276957ad": {
          "model_module": "@jupyter-widgets/controls",
          "model_module_version": "1.5.0",
          "model_name": "FloatProgressModel",
          "state": {
            "_dom_classes": [],
            "_model_module": "@jupyter-widgets/controls",
            "_model_module_version": "1.5.0",
            "_model_name": "FloatProgressModel",
            "_view_count": null,
            "_view_module": "@jupyter-widgets/controls",
            "_view_module_version": "1.5.0",
            "_view_name": "ProgressView",
            "bar_style": "success",
            "description": "",
            "description_tooltip": null,
            "layout": "IPY_MODEL_46859c6d969946009c05b6f0fa5ad44e",
            "max": 1,
            "min": 0,
            "orientation": "horizontal",
            "style": "IPY_MODEL_34ae2cb36fb14f75b2d752b7cca424ad",
            "value": 1
          }
        },
        "887197cea23041b79d77a6ab702a0f57": {
          "model_module": "@jupyter-widgets/controls",
          "model_module_version": "1.5.0",
          "model_name": "DescriptionStyleModel",
          "state": {
            "_model_module": "@jupyter-widgets/controls",
            "_model_module_version": "1.5.0",
            "_model_name": "DescriptionStyleModel",
            "_view_count": null,
            "_view_module": "@jupyter-widgets/base",
            "_view_module_version": "1.2.0",
            "_view_name": "StyleView",
            "description_width": ""
          }
        },
        "9497a8b2689f40b687abc9c9cca92209": {
          "model_module": "@jupyter-widgets/controls",
          "model_module_version": "1.5.0",
          "model_name": "HTMLModel",
          "state": {
            "_dom_classes": [],
            "_model_module": "@jupyter-widgets/controls",
            "_model_module_version": "1.5.0",
            "_model_name": "HTMLModel",
            "_view_count": null,
            "_view_module": "@jupyter-widgets/controls",
            "_view_module_version": "1.5.0",
            "_view_name": "HTMLView",
            "description": "",
            "description_tooltip": null,
            "layout": "IPY_MODEL_21762de1d7b840a0b63aadde5041a363",
            "placeholder": "​",
            "style": "IPY_MODEL_887197cea23041b79d77a6ab702a0f57",
            "value": ""
          }
        },
        "9a8b3d660f9548c7a4d0acb1c571cb63": {
          "model_module": "@jupyter-widgets/controls",
          "model_module_version": "1.5.0",
          "model_name": "HTMLModel",
          "state": {
            "_dom_classes": [],
            "_model_module": "@jupyter-widgets/controls",
            "_model_module_version": "1.5.0",
            "_model_name": "HTMLModel",
            "_view_count": null,
            "_view_module": "@jupyter-widgets/controls",
            "_view_module_version": "1.5.0",
            "_view_name": "HTMLView",
            "description": "",
            "description_tooltip": null,
            "layout": "IPY_MODEL_b7bd5392580e4ee899899240b81d484b",
            "placeholder": "​",
            "style": "IPY_MODEL_c5ef9a40c8554a54a5423bf6ade6041b",
            "value": " 1.99M/? [00:00&lt;00:00, 3.36MB/s]"
          }
        },
        "b7bd5392580e4ee899899240b81d484b": {
          "model_module": "@jupyter-widgets/base",
          "model_module_version": "1.2.0",
          "model_name": "LayoutModel",
          "state": {
            "_model_module": "@jupyter-widgets/base",
            "_model_module_version": "1.2.0",
            "_model_name": "LayoutModel",
            "_view_count": null,
            "_view_module": "@jupyter-widgets/base",
            "_view_module_version": "1.2.0",
            "_view_name": "LayoutView",
            "align_content": null,
            "align_items": null,
            "align_self": null,
            "border": null,
            "bottom": null,
            "display": null,
            "flex": null,
            "flex_flow": null,
            "grid_area": null,
            "grid_auto_columns": null,
            "grid_auto_flow": null,
            "grid_auto_rows": null,
            "grid_column": null,
            "grid_gap": null,
            "grid_row": null,
            "grid_template_areas": null,
            "grid_template_columns": null,
            "grid_template_rows": null,
            "height": null,
            "justify_content": null,
            "justify_items": null,
            "left": null,
            "margin": null,
            "max_height": null,
            "max_width": null,
            "min_height": null,
            "min_width": null,
            "object_fit": null,
            "object_position": null,
            "order": null,
            "overflow": null,
            "overflow_x": null,
            "overflow_y": null,
            "padding": null,
            "right": null,
            "top": null,
            "visibility": null,
            "width": null
          }
        },
        "c5ef9a40c8554a54a5423bf6ade6041b": {
          "model_module": "@jupyter-widgets/controls",
          "model_module_version": "1.5.0",
          "model_name": "DescriptionStyleModel",
          "state": {
            "_model_module": "@jupyter-widgets/controls",
            "_model_module_version": "1.5.0",
            "_model_name": "DescriptionStyleModel",
            "_view_count": null,
            "_view_module": "@jupyter-widgets/base",
            "_view_module_version": "1.2.0",
            "_view_name": "StyleView",
            "description_width": ""
          }
        },
        "c735295c488544daa9ea27ba7fffc1c8": {
          "model_module": "@jupyter-widgets/controls",
          "model_module_version": "1.5.0",
          "model_name": "HBoxModel",
          "state": {
            "_dom_classes": [],
            "_model_module": "@jupyter-widgets/controls",
            "_model_module_version": "1.5.0",
            "_model_name": "HBoxModel",
            "_view_count": null,
            "_view_module": "@jupyter-widgets/controls",
            "_view_module_version": "1.5.0",
            "_view_name": "HBoxView",
            "box_style": "",
            "children": [
              "IPY_MODEL_9497a8b2689f40b687abc9c9cca92209",
              "IPY_MODEL_777898bbb3f84349bd71939b276957ad",
              "IPY_MODEL_9a8b3d660f9548c7a4d0acb1c571cb63"
            ],
            "layout": "IPY_MODEL_3bbdcc0fea2849bcab9031371a528138"
          }
        }
      }
    }
  },
  "nbformat": 4,
  "nbformat_minor": 0
}
