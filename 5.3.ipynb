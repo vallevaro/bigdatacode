{
  "cells": [
    {
      "cell_type": "markdown",
      "metadata": {
        "id": "wzPrmZOMtXt1"
      },
      "source": [
        "# Matrix Factorization\n",
        "\n",
        "One apt abstraction for the ratings that users assign to items is a matrix. Most of the time, the rating matrix we observe is very sparse. The challenge then is how to fill in the missing values as accurately as possible.  If we assume that most matrices have a low-rank representation (it can be reconstructed from relatively few basis vectors), then one promising approach is to conduct matrix factorization.  Indeed, matrix factorization is a cornerstone of many recommendation algorithms."
      ]
    },
    {
      "cell_type": "code",
      "execution_count": 1,
      "metadata": {
        "colab": {
          "base_uri": "https://localhost:8080/"
        },
        "id": "YqKrDcGH2k7E",
        "outputId": "105357e6-35bd-4183-9471-6d4c805b1cdc"
      },
      "outputs": [
        {
          "name": "stdout",
          "output_type": "stream",
          "text": [
            "System version: 3.12.3 (main, Feb  4 2025, 14:48:35) [GCC 13.3.0]\n",
            "Cornac version: 2.3.0\n"
          ]
        }
      ],
      "source": [
        "import os\n",
        "import sys\n",
        "import itertools\n",
        "\n",
        "import scipy.sparse as sp\n",
        "import numpy as np\n",
        "import pandas as pd\n",
        "import seaborn as sns\n",
        "import matplotlib.pyplot as plt\n",
        "\n",
        "import cornac\n",
        "from cornac.utils import cache\n",
        "from cornac.datasets import movielens\n",
        "from cornac.eval_methods import RatioSplit\n",
        "from cornac.models import MF, NMF, BaselineOnly\n",
        "\n",
        "print(f\"System version: {sys.version}\")\n",
        "print(f\"Cornac version: {cornac.__version__}\")\n",
        "\n",
        "SEED = 42\n",
        "VERBOSE = False"
      ]
    },
    {
      "cell_type": "markdown",
      "metadata": {
        "id": "4fLSfYBAsN3h"
      },
      "source": [
        "## 2. Low-Rank Approximation with Latent Factor Models"
      ]
    },
    {
      "cell_type": "markdown",
      "metadata": {
        "id": "nMNOXO8bNIyd"
      },
      "source": [
        "### Sample Data\n",
        "\n",
        "For the purpose of illustration, we use a simple dataset involving 5 users and 6 items."
      ]
    },
    {
      "cell_type": "code",
      "execution_count": 2,
      "metadata": {
        "colab": {
          "base_uri": "https://localhost:8080/",
          "height": 292,
          "referenced_widgets": [
            "7587d7f7c2784caeb763aa92986f4d22",
            "bd0569a9dcc14570a856727da1444ca4",
            "02c8d1e1d2574ce9ac6c8499b9113a91",
            "7d0835c4a032418ba85c8e6ffb4a9307",
            "89295054a1dc4f88a8f66ae2e27aaaa6",
            "bfcc2024cbb949caa462326c2eca5292",
            "4238be6271c9483187f76d662a5c9f2f",
            "ebf784f86ca742f78de7966e878a5fa3",
            "bc382427d1784fb2ad9a958907390d77",
            "2916f5c011214570a9a38805148842b8",
            "7baa81995d3845d28b8de3d6bc5fc1ef"
          ]
        },
        "id": "SoIsiTWIK1h0",
        "outputId": "7fbe1878-4439-4c4b-a68b-da8d611334c9"
      },
      "outputs": [
        {
          "data": {
            "application/vnd.microsoft.datawrangler.viewer.v0+json": {
              "columns": [
                {
                  "name": "index",
                  "rawType": "object",
                  "type": "string"
                },
                {
                  "name": "Item 1",
                  "rawType": "float64",
                  "type": "float"
                },
                {
                  "name": "Item 2",
                  "rawType": "float64",
                  "type": "float"
                },
                {
                  "name": "Item 3",
                  "rawType": "float64",
                  "type": "float"
                },
                {
                  "name": "Item 4",
                  "rawType": "float64",
                  "type": "float"
                },
                {
                  "name": "Item 5",
                  "rawType": "float64",
                  "type": "float"
                },
                {
                  "name": "Item 6",
                  "rawType": "float64",
                  "type": "float"
                }
              ],
              "conversionMethod": "pd.DataFrame",
              "ref": "f81c1699-44dd-49e3-98c6-ee85930ddf6d",
              "rows": [
                [
                  "User 1",
                  "7.0",
                  "6.0",
                  "7.0",
                  "4.0",
                  "5.0",
                  "4.0"
                ],
                [
                  "User 2",
                  "6.0",
                  "7.0",
                  null,
                  "4.0",
                  "3.0",
                  "4.0"
                ],
                [
                  "User 3",
                  null,
                  "3.0",
                  "3.0",
                  "1.0",
                  "1.0",
                  null
                ],
                [
                  "User 4",
                  "1.0",
                  "2.0",
                  "2.0",
                  "3.0",
                  "3.0",
                  "4.0"
                ],
                [
                  "User 5",
                  "1.0",
                  null,
                  "1.0",
                  "2.0",
                  "3.0",
                  "3.0"
                ]
              ],
              "shape": {
                "columns": 6,
                "rows": 5
              }
            },
            "text/html": [
              "<div>\n",
              "<style scoped>\n",
              "    .dataframe tbody tr th:only-of-type {\n",
              "        vertical-align: middle;\n",
              "    }\n",
              "\n",
              "    .dataframe tbody tr th {\n",
              "        vertical-align: top;\n",
              "    }\n",
              "\n",
              "    .dataframe thead th {\n",
              "        text-align: right;\n",
              "    }\n",
              "</style>\n",
              "<table border=\"1\" class=\"dataframe\">\n",
              "  <thead>\n",
              "    <tr style=\"text-align: right;\">\n",
              "      <th></th>\n",
              "      <th>Item 1</th>\n",
              "      <th>Item 2</th>\n",
              "      <th>Item 3</th>\n",
              "      <th>Item 4</th>\n",
              "      <th>Item 5</th>\n",
              "      <th>Item 6</th>\n",
              "    </tr>\n",
              "  </thead>\n",
              "  <tbody>\n",
              "    <tr>\n",
              "      <th>User 1</th>\n",
              "      <td>7.0</td>\n",
              "      <td>6.0</td>\n",
              "      <td>7.0</td>\n",
              "      <td>4.0</td>\n",
              "      <td>5.0</td>\n",
              "      <td>4.0</td>\n",
              "    </tr>\n",
              "    <tr>\n",
              "      <th>User 2</th>\n",
              "      <td>6.0</td>\n",
              "      <td>7.0</td>\n",
              "      <td>NaN</td>\n",
              "      <td>4.0</td>\n",
              "      <td>3.0</td>\n",
              "      <td>4.0</td>\n",
              "    </tr>\n",
              "    <tr>\n",
              "      <th>User 3</th>\n",
              "      <td>NaN</td>\n",
              "      <td>3.0</td>\n",
              "      <td>3.0</td>\n",
              "      <td>1.0</td>\n",
              "      <td>1.0</td>\n",
              "      <td>NaN</td>\n",
              "    </tr>\n",
              "    <tr>\n",
              "      <th>User 4</th>\n",
              "      <td>1.0</td>\n",
              "      <td>2.0</td>\n",
              "      <td>2.0</td>\n",
              "      <td>3.0</td>\n",
              "      <td>3.0</td>\n",
              "      <td>4.0</td>\n",
              "    </tr>\n",
              "    <tr>\n",
              "      <th>User 5</th>\n",
              "      <td>1.0</td>\n",
              "      <td>NaN</td>\n",
              "      <td>1.0</td>\n",
              "      <td>2.0</td>\n",
              "      <td>3.0</td>\n",
              "      <td>3.0</td>\n",
              "    </tr>\n",
              "  </tbody>\n",
              "</table>\n",
              "</div>"
            ],
            "text/plain": [
              "        Item 1  Item 2  Item 3  Item 4  Item 5  Item 6\n",
              "User 1     7.0     6.0     7.0     4.0     5.0     4.0\n",
              "User 2     6.0     7.0     NaN     4.0     3.0     4.0\n",
              "User 3     NaN     3.0     3.0     1.0     1.0     NaN\n",
              "User 4     1.0     2.0     2.0     3.0     3.0     4.0\n",
              "User 5     1.0     NaN     1.0     2.0     3.0     3.0"
            ]
          },
          "execution_count": 2,
          "metadata": {},
          "output_type": "execute_result"
        }
      ],
      "source": [
        "sample_df = pd.read_csv(\n",
        "  cache(\"https://static.preferred.ai/tutorials/recommender-systems/sample_data.csv\"), \n",
        "  sep=\",\", names=[\"UserID\", \"ItemID\", \"Rating\"]\n",
        ")\n",
        "dataset = cornac.data.Dataset.from_uir(sample_df.itertuples(index=False))\n",
        "R = dataset.matrix.A\n",
        "R_mask = (R > 0).astype(float)\n",
        "pd.DataFrame(\n",
        "  data=R,\n",
        "  index=[f\"User {u + 1}\" for u in np.arange(dataset.num_users)],\n",
        "  columns=[f\"Item {i + 1}\" for i in np.arange(dataset.num_items)]\n",
        ").replace(0, np.nan)"
      ]
    },
    {
      "cell_type": "markdown",
      "metadata": {
        "id": "9EOlINhtyyIu"
      },
      "source": [
        "### Singular Value Decomposition (SVD)\n",
        "\n",
        "For any real rating matrix $ R \\in \\mathbb{R}^{N \\times M} $, SVD seeks the following decomposition:\n",
        "\n",
        "$$ R = U \\Sigma V^T $$\n",
        "\n",
        "where $ U \\in \\mathbb{R}^{N \\times N} $ has orthonormal columns, $ \\Sigma \\in \\mathbb{R}^{N \\times M} $ is a matrix containing $D = \\mathrm{min}(N,M)$ singular values $ \\sigma_i \\geq 0 $ on the main diagonal, and $ V \\in \\mathbb{R}^{M \\times M} $ has orthonormal columns and rows.\n",
        "\n",
        "Let's try to decompose the sample matrix with SVD and reconstruct it with only the first singular value."
      ]
    },
    {
      "cell_type": "code",
      "execution_count": 3,
      "metadata": {
        "colab": {
          "base_uri": "https://localhost:8080/",
          "height": 278
        },
        "id": "7cwkUfIBzdPV",
        "outputId": "2d219aa3-1233-449e-c395-0fe384f0ed30"
      },
      "outputs": [
        {
          "name": "stdout",
          "output_type": "stream",
          "text": [
            "Singular values:  [18.703  5.187  4.537  2.526  0.561]\n",
            "\n",
            "RMSE = 1.065\n",
            "Reconstructed matrix:\n"
          ]
        },
        {
          "data": {
            "application/vnd.microsoft.datawrangler.viewer.v0+json": {
              "columns": [
                {
                  "name": "index",
                  "rawType": "object",
                  "type": "string"
                },
                {
                  "name": "Item 1",
                  "rawType": "float64",
                  "type": "float"
                },
                {
                  "name": "Item 2",
                  "rawType": "float64",
                  "type": "float"
                },
                {
                  "name": "Item 3",
                  "rawType": "float64",
                  "type": "float"
                },
                {
                  "name": "Item 4",
                  "rawType": "float64",
                  "type": "float"
                },
                {
                  "name": "Item 5",
                  "rawType": "float64",
                  "type": "float"
                },
                {
                  "name": "Item 6",
                  "rawType": "float64",
                  "type": "float"
                }
              ],
              "conversionMethod": "pd.DataFrame",
              "ref": "bb2207c8-57ac-49ef-a31b-49497ff326d0",
              "rows": [
                [
                  "User 1",
                  "6.44",
                  "6.78",
                  "4.63",
                  "4.79",
                  "5.06",
                  "5.04"
                ],
                [
                  "User 2",
                  "4.95",
                  "5.21",
                  "3.56",
                  "3.69",
                  "3.89",
                  "3.87"
                ],
                [
                  "User 3",
                  "1.55",
                  "1.63",
                  "1.12",
                  "1.16",
                  "1.22",
                  "1.21"
                ],
                [
                  "User 4",
                  "2.78",
                  "2.93",
                  "2.0",
                  "2.07",
                  "2.18",
                  "2.18"
                ],
                [
                  "User 5",
                  "1.79",
                  "1.89",
                  "1.29",
                  "1.34",
                  "1.41",
                  "1.4"
                ]
              ],
              "shape": {
                "columns": 6,
                "rows": 5
              }
            },
            "text/html": [
              "<div>\n",
              "<style scoped>\n",
              "    .dataframe tbody tr th:only-of-type {\n",
              "        vertical-align: middle;\n",
              "    }\n",
              "\n",
              "    .dataframe tbody tr th {\n",
              "        vertical-align: top;\n",
              "    }\n",
              "\n",
              "    .dataframe thead th {\n",
              "        text-align: right;\n",
              "    }\n",
              "</style>\n",
              "<table border=\"1\" class=\"dataframe\">\n",
              "  <thead>\n",
              "    <tr style=\"text-align: right;\">\n",
              "      <th></th>\n",
              "      <th>Item 1</th>\n",
              "      <th>Item 2</th>\n",
              "      <th>Item 3</th>\n",
              "      <th>Item 4</th>\n",
              "      <th>Item 5</th>\n",
              "      <th>Item 6</th>\n",
              "    </tr>\n",
              "  </thead>\n",
              "  <tbody>\n",
              "    <tr>\n",
              "      <th>User 1</th>\n",
              "      <td>6.44</td>\n",
              "      <td>6.78</td>\n",
              "      <td>4.63</td>\n",
              "      <td>4.79</td>\n",
              "      <td>5.06</td>\n",
              "      <td>5.04</td>\n",
              "    </tr>\n",
              "    <tr>\n",
              "      <th>User 2</th>\n",
              "      <td>4.95</td>\n",
              "      <td>5.21</td>\n",
              "      <td>3.56</td>\n",
              "      <td>3.69</td>\n",
              "      <td>3.89</td>\n",
              "      <td>3.87</td>\n",
              "    </tr>\n",
              "    <tr>\n",
              "      <th>User 3</th>\n",
              "      <td>1.55</td>\n",
              "      <td>1.63</td>\n",
              "      <td>1.12</td>\n",
              "      <td>1.16</td>\n",
              "      <td>1.22</td>\n",
              "      <td>1.21</td>\n",
              "    </tr>\n",
              "    <tr>\n",
              "      <th>User 4</th>\n",
              "      <td>2.78</td>\n",
              "      <td>2.93</td>\n",
              "      <td>2.00</td>\n",
              "      <td>2.07</td>\n",
              "      <td>2.18</td>\n",
              "      <td>2.18</td>\n",
              "    </tr>\n",
              "    <tr>\n",
              "      <th>User 5</th>\n",
              "      <td>1.79</td>\n",
              "      <td>1.89</td>\n",
              "      <td>1.29</td>\n",
              "      <td>1.34</td>\n",
              "      <td>1.41</td>\n",
              "      <td>1.40</td>\n",
              "    </tr>\n",
              "  </tbody>\n",
              "</table>\n",
              "</div>"
            ],
            "text/plain": [
              "        Item 1  Item 2  Item 3  Item 4  Item 5  Item 6\n",
              "User 1    6.44    6.78    4.63    4.79    5.06    5.04\n",
              "User 2    4.95    5.21    3.56    3.69    3.89    3.87\n",
              "User 3    1.55    1.63    1.12    1.16    1.22    1.21\n",
              "User 4    2.78    2.93    2.00    2.07    2.18    2.18\n",
              "User 5    1.79    1.89    1.29    1.34    1.41    1.40"
            ]
          },
          "execution_count": 3,
          "metadata": {},
          "output_type": "execute_result"
        }
      ],
      "source": [
        "U, s, Vt = np.linalg.svd(R, full_matrices=True)\n",
        "print(\"Singular values: \", s.round(3))\n",
        "Sigma = np.zeros((R.shape[0], R.shape[1]))\n",
        "Sigma[:R.shape[0], :R.shape[0]] = np.diag(s)\n",
        "\n",
        "N = 1\n",
        "Sigma = Sigma[:, :N]\n",
        "Vt = Vt[:N, :]\n",
        "recon_R = U.dot(Sigma.dot(Vt))\n",
        "\n",
        "rmse = np.sqrt((((R - recon_R) ** 2) * R_mask).mean())\n",
        "print(f\"\\nRMSE = {rmse:.3f}\")\n",
        "print(\"Reconstructed matrix:\")\n",
        "pd.DataFrame(recon_R.round(2),\n",
        "             index=[f\"User {u + 1}\" for u in np.arange(dataset.num_users)],\n",
        "             columns=[f\"Item {i + 1}\" for i in np.arange(dataset.num_items)])"
      ]
    },
    {
      "cell_type": "markdown",
      "metadata": {
        "id": "5R7M5YRjq_Nm"
      },
      "source": [
        "### Matrix Factorization (MF)\n",
        "\n",
        "In matrix factorization, a sparse rating matrix $R \\in \\mathbb{R}^{N \\times M}$, for $N$ users and $M$ items, is factorized into matrix $U \\in \\mathbb{R}^{N \\times K}$ and matrix $V \\in \\mathbb{R}^{M \\times K}$, as follows:\n",
        "\n",
        "$$ R = UV^T $$\n",
        "\n",
        "Each row of $U$ (or $V$) is referred to as latent *factors* of user (or item).  MF model in Cornac is implemented to use *stochastic gradient descent* for optimization.\n",
        "\n",
        "\n",
        "Let's try to factorize the sample matrix using MF with $K=1$."
      ]
    },
    {
      "cell_type": "code",
      "execution_count": 4,
      "metadata": {
        "colab": {
          "base_uri": "https://localhost:8080/",
          "height": 492
        },
        "id": "ig8aXp0urX0V",
        "outputId": "9b65002e-b9cc-4287-ce38-43ee3c9f8bdf"
      },
      "outputs": [
        {
          "name": "stdout",
          "output_type": "stream",
          "text": [
            "User factors:\n",
            " [[-2.7799156 ]\n",
            " [-2.2932158 ]\n",
            " [-0.89115924]\n",
            " [-1.1045974 ]\n",
            " [-0.8111502 ]]\n",
            "Item factors:\n",
            " [[-1.9345245]\n",
            " [-2.061479 ]\n",
            " [-1.6459872]\n",
            " [-1.25037  ]\n",
            " [-1.3333225]\n",
            " [-1.4964565]]\n",
            "\n",
            "RMSE = 1.206\n",
            "Reconstructed matrix:\n"
          ]
        },
        {
          "data": {
            "application/vnd.microsoft.datawrangler.viewer.v0+json": {
              "columns": [
                {
                  "name": "index",
                  "rawType": "object",
                  "type": "string"
                },
                {
                  "name": "Item 1",
                  "rawType": "float64",
                  "type": "float"
                },
                {
                  "name": "Item 2",
                  "rawType": "float64",
                  "type": "float"
                },
                {
                  "name": "Item 3",
                  "rawType": "float64",
                  "type": "float"
                },
                {
                  "name": "Item 4",
                  "rawType": "float64",
                  "type": "float"
                },
                {
                  "name": "Item 5",
                  "rawType": "float64",
                  "type": "float"
                },
                {
                  "name": "Item 6",
                  "rawType": "float64",
                  "type": "float"
                }
              ],
              "conversionMethod": "pd.DataFrame",
              "ref": "ecbce4ff-7110-4996-9ece-a188de5f6bc0",
              "rows": [
                [
                  "User 1",
                  "5.38",
                  "5.73",
                  "4.58",
                  "3.48",
                  "3.71",
                  "4.16"
                ],
                [
                  "User 2",
                  "4.44",
                  "4.73",
                  "3.77",
                  "2.87",
                  "3.06",
                  "3.43"
                ],
                [
                  "User 3",
                  "1.72",
                  "1.84",
                  "1.47",
                  "1.11",
                  "1.19",
                  "1.33"
                ],
                [
                  "User 4",
                  "2.14",
                  "2.28",
                  "1.82",
                  "1.38",
                  "1.47",
                  "1.65"
                ],
                [
                  "User 5",
                  "1.57",
                  "1.67",
                  "1.34",
                  "1.01",
                  "1.08",
                  "1.21"
                ]
              ],
              "shape": {
                "columns": 6,
                "rows": 5
              }
            },
            "text/html": [
              "<div>\n",
              "<style scoped>\n",
              "    .dataframe tbody tr th:only-of-type {\n",
              "        vertical-align: middle;\n",
              "    }\n",
              "\n",
              "    .dataframe tbody tr th {\n",
              "        vertical-align: top;\n",
              "    }\n",
              "\n",
              "    .dataframe thead th {\n",
              "        text-align: right;\n",
              "    }\n",
              "</style>\n",
              "<table border=\"1\" class=\"dataframe\">\n",
              "  <thead>\n",
              "    <tr style=\"text-align: right;\">\n",
              "      <th></th>\n",
              "      <th>Item 1</th>\n",
              "      <th>Item 2</th>\n",
              "      <th>Item 3</th>\n",
              "      <th>Item 4</th>\n",
              "      <th>Item 5</th>\n",
              "      <th>Item 6</th>\n",
              "    </tr>\n",
              "  </thead>\n",
              "  <tbody>\n",
              "    <tr>\n",
              "      <th>User 1</th>\n",
              "      <td>5.38</td>\n",
              "      <td>5.73</td>\n",
              "      <td>4.58</td>\n",
              "      <td>3.48</td>\n",
              "      <td>3.71</td>\n",
              "      <td>4.16</td>\n",
              "    </tr>\n",
              "    <tr>\n",
              "      <th>User 2</th>\n",
              "      <td>4.44</td>\n",
              "      <td>4.73</td>\n",
              "      <td>3.77</td>\n",
              "      <td>2.87</td>\n",
              "      <td>3.06</td>\n",
              "      <td>3.43</td>\n",
              "    </tr>\n",
              "    <tr>\n",
              "      <th>User 3</th>\n",
              "      <td>1.72</td>\n",
              "      <td>1.84</td>\n",
              "      <td>1.47</td>\n",
              "      <td>1.11</td>\n",
              "      <td>1.19</td>\n",
              "      <td>1.33</td>\n",
              "    </tr>\n",
              "    <tr>\n",
              "      <th>User 4</th>\n",
              "      <td>2.14</td>\n",
              "      <td>2.28</td>\n",
              "      <td>1.82</td>\n",
              "      <td>1.38</td>\n",
              "      <td>1.47</td>\n",
              "      <td>1.65</td>\n",
              "    </tr>\n",
              "    <tr>\n",
              "      <th>User 5</th>\n",
              "      <td>1.57</td>\n",
              "      <td>1.67</td>\n",
              "      <td>1.34</td>\n",
              "      <td>1.01</td>\n",
              "      <td>1.08</td>\n",
              "      <td>1.21</td>\n",
              "    </tr>\n",
              "  </tbody>\n",
              "</table>\n",
              "</div>"
            ],
            "text/plain": [
              "        Item 1  Item 2  Item 3  Item 4  Item 5  Item 6\n",
              "User 1    5.38    5.73    4.58    3.48    3.71    4.16\n",
              "User 2    4.44    4.73    3.77    2.87    3.06    3.43\n",
              "User 3    1.72    1.84    1.47    1.11    1.19    1.33\n",
              "User 4    2.14    2.28    1.82    1.38    1.47    1.65\n",
              "User 5    1.57    1.67    1.34    1.01    1.08    1.21"
            ]
          },
          "execution_count": 4,
          "metadata": {},
          "output_type": "execute_result"
        }
      ],
      "source": [
        "mf = MF(\n",
        "  k=1, max_iter=100, learning_rate=0.01, lambda_reg=0.0, use_bias=False, verbose=VERBOSE\n",
        ").fit(dataset)\n",
        "print(\"User factors:\\n\", mf.u_factors)\n",
        "print(\"Item factors:\\n\", mf.i_factors)\n",
        "\n",
        "recon_R = np.empty(dataset.matrix.shape)\n",
        "for u, i in itertools.product(range(recon_R.shape[0]), range(recon_R.shape[1])):\n",
        "  recon_R[u, i] = mf.score(u, i)\n",
        "\n",
        "rmse = np.sqrt((((R - recon_R) ** 2) * R_mask).mean())\n",
        "print(f\"\\nRMSE = {rmse:.3f}\")\n",
        "print(\"Reconstructed matrix:\")\n",
        "pd.DataFrame(recon_R.round(2),\n",
        "             index=[f\"User {u + 1}\" for u in np.arange(dataset.num_users)],\n",
        "             columns=[f\"Item {i + 1}\" for i in np.arange(dataset.num_items)])"
      ]
    },
    {
      "cell_type": "markdown",
      "metadata": {
        "id": "jmph6ivErdG5"
      },
      "source": [
        "### Let's Try MF on a Real Dataset\n",
        "\n",
        "Here, we try MF on MovieLens 100K dataset.  You can experiment with different number of factors!"
      ]
    },
    {
      "cell_type": "code",
      "execution_count": 5,
      "metadata": {
        "colab": {
          "base_uri": "https://localhost:8080/",
          "height": 228,
          "referenced_widgets": [
            "0dc9e8fa017c4390ab003e90a3dc106b",
            "fe12393227844c01874654efdb771caa",
            "38068b8faca943899599fed5392a34a5",
            "8bce38e6e6164530ab839ee45c93ba8d",
            "127e355a8789418d9f51f3007c10ff25",
            "c9f2fd8bb4a9479483648d30d1efb481",
            "1dca22c45cdd47fcba78f5c3b988385b",
            "d239b4b48f2946dfba103353018b3988",
            "b9a78a8e393b4f75b7efccabb7a93739",
            "64d86fce9ab0405b89a424979b098152",
            "fd7c6a660de247ce82ec23481fdb5832"
          ]
        },
        "id": "4xU11wUMso7L",
        "outputId": "4f245184-2319-4f49-e376-31cf7076d40f"
      },
      "outputs": [
        {
          "name": "stdout",
          "output_type": "stream",
          "text": [
            "\n",
            "TEST:\n",
            "...\n",
            "          |   RMSE | Train (s) | Test (s)\n",
            "--------- + ------ + --------- + --------\n",
            "MF(K=100) | 0.8957 |    0.0767 |   0.1704\n",
            "\n"
          ]
        }
      ],
      "source": [
        "K = 100\n",
        "mf = MF(k=K, max_iter=20, learning_rate=0.01, lambda_reg=0.0, use_bias=False,\n",
        "        verbose=VERBOSE, seed=SEED, name=f\"MF(K={K})\")\n",
        "  \n",
        "data = movielens.load_feedback(variant=\"100K\")\n",
        "rs = RatioSplit(data, test_size=0.2, seed=SEED, verbose=VERBOSE)\n",
        "rmse = cornac.metrics.RMSE()\n",
        "cornac.Experiment(eval_method=rs, models=[mf], metrics=[rmse]).run()"
      ]
    },
    {
      "cell_type": "markdown",
      "metadata": {
        "id": "r76coF3ZyWxb"
      },
      "source": [
        "## 3. Regularization\n",
        "\n",
        "In real settings, rating matrix is normally very sparse, this can easily cause overfitting.  A common approach for addressing this problem is to use *regularization*.  In MF, we minimize *l2-norm* of the user and item factors, the regularization term is defined as:\n",
        "\n",
        "$$ \\mathrm{regularization} = \\frac{\\lambda}{2} \\big( ||U||^2 + ||V||^2 \\big) $$\n",
        "\n",
        "Let's see how MF with regularization performs."
      ]
    },
    {
      "cell_type": "code",
      "execution_count": 6,
      "metadata": {
        "colab": {
          "base_uri": "https://localhost:8080/"
        },
        "id": "p2iyzuFFs1Fq",
        "outputId": "be36a583-4b8c-4567-dd6b-62bb9796a5e2"
      },
      "outputs": [
        {
          "name": "stdout",
          "output_type": "stream",
          "text": [
            "\n",
            "TEST:\n",
            "...\n",
            "                        |   RMSE | Train (s) | Test (s)\n",
            "----------------------- + ------ + --------- + --------\n",
            "MF(K=100,lambda=0.0100) | 0.8943 |    0.0773 |   0.2292\n",
            "\n"
          ]
        }
      ],
      "source": [
        "K = 100\n",
        "lbd = 0.01\n",
        "mf = MF(k=K, max_iter=20, learning_rate=0.01, lambda_reg=lbd, use_bias=False,\n",
        "        verbose=VERBOSE, seed=SEED, name=f\"MF(K={K},lambda={lbd:.4f})\")\n",
        "\n",
        "data = movielens.load_feedback(variant=\"100K\")\n",
        "rs = RatioSplit(data, test_size=0.2, seed=SEED, verbose=VERBOSE)\n",
        "rmse = cornac.metrics.RMSE()\n",
        "cornac.Experiment(eval_method=rs, models=[mf], metrics=[rmse]).run()"
      ]
    },
    {
      "cell_type": "markdown",
      "metadata": {
        "id": "-8iXcfuKsVa8"
      },
      "source": [
        "## 4. Effect of Bias\n",
        "\n",
        "Incorporating bias terms into prediction formular:\n",
        "\n",
        "$$\\hat{r}_{ij} = \\mu + b_u + b_i + \\mathbf{u}_i^T \\mathbf{v}_j $$\n",
        "\n",
        "where $\\mu$ is global average rating, $b_u$ and $b_i$ are user bias and item bias, respectively.\n",
        "\n",
        "Let's compare MF models with and without biases.  The *BaselineOnly* model is the one using only bias terms for prediction ($\\hat{r}_{ij} = \\mu + b_u + b_i $)."
      ]
    },
    {
      "cell_type": "code",
      "execution_count": 7,
      "metadata": {
        "colab": {
          "base_uri": "https://localhost:8080/"
        },
        "id": "NZ2Al6omrlEP",
        "outputId": "537f7ca3-5e51-41ea-acac-0f39f204c673"
      },
      "outputs": [
        {
          "name": "stdout",
          "output_type": "stream",
          "text": [
            "\n",
            "TEST:\n",
            "...\n",
            "               |   RMSE | Train (s) | Test (s)\n",
            "-------------- + ------ + --------- + --------\n",
            "BaselineOnly   | 0.9114 |    0.0799 |   0.1399\n",
            "MF(K=100)      | 0.8943 |    0.0959 |   0.2025\n",
            "MF(K=100,bias) | 0.8878 |    0.0797 |   0.1833\n",
            "\n"
          ]
        }
      ],
      "source": [
        "K = 100\n",
        "models = [\n",
        "  BaselineOnly(max_iter=20, learning_rate=0.01, lambda_reg=0.01, verbose=VERBOSE),\n",
        "  MF(k=K, max_iter=20, learning_rate=0.01, lambda_reg=0.01, use_bias=False, \n",
        "     verbose=VERBOSE, seed=SEED, name=f\"MF(K={K})\"),\n",
        "  MF(k=K, max_iter=20, learning_rate=0.01, lambda_reg=0.01, use_bias=True, \n",
        "     verbose=VERBOSE, seed=SEED, name=f\"MF(K={K},bias)\"),\n",
        "]\n",
        "\n",
        "data = movielens.load_feedback(variant=\"100K\")\n",
        "rs = RatioSplit(data, test_size=0.2, seed=SEED, verbose=VERBOSE)\n",
        "rmse = cornac.metrics.RMSE()\n",
        "cornac.Experiment(eval_method=rs, models=models, metrics=[rmse]).run()"
      ]
    },
    {
      "cell_type": "markdown",
      "metadata": {
        "id": "PwIrEqGEzdeh"
      },
      "source": [
        "## 5. Non-Negative Matrix Factorization (NMF)\n",
        "\n",
        "A variant of matrix factorization is non-negative matrix factorization. No prizes for guessing that in this case the latent factors are constrained to be non-negative.  This allows for better interpretability as we can reason with positive values."
      ]
    },
    {
      "cell_type": "code",
      "execution_count": 8,
      "metadata": {
        "colab": {
          "base_uri": "https://localhost:8080/",
          "height": 492
        },
        "id": "8frMpGZB-BBI",
        "outputId": "678fc2cd-c3b1-4bac-d601-418718d97011"
      },
      "outputs": [
        {
          "name": "stdout",
          "output_type": "stream",
          "text": [
            "User factors:\n",
            " [[2.7238653]\n",
            " [2.4937556]\n",
            " [1.0435213]\n",
            " [1.1380166]\n",
            " [0.9396193]]\n",
            "Item factors:\n",
            " [[2.1166759]\n",
            " [2.2691047]\n",
            " [2.191093 ]\n",
            " [1.4888524]\n",
            " [1.5528427]\n",
            " [1.6555102]]\n",
            "\n",
            "RMSE = 0.921\n",
            "Reconstructed matrix:\n"
          ]
        },
        {
          "data": {
            "application/vnd.microsoft.datawrangler.viewer.v0+json": {
              "columns": [
                {
                  "name": "index",
                  "rawType": "object",
                  "type": "string"
                },
                {
                  "name": "Item 1",
                  "rawType": "float64",
                  "type": "float"
                },
                {
                  "name": "Item 2",
                  "rawType": "float64",
                  "type": "float"
                },
                {
                  "name": "Item 3",
                  "rawType": "float64",
                  "type": "float"
                },
                {
                  "name": "Item 4",
                  "rawType": "float64",
                  "type": "float"
                },
                {
                  "name": "Item 5",
                  "rawType": "float64",
                  "type": "float"
                },
                {
                  "name": "Item 6",
                  "rawType": "float64",
                  "type": "float"
                }
              ],
              "conversionMethod": "pd.DataFrame",
              "ref": "bd385be4-4db0-4643-b59e-0da6e9638f76",
              "rows": [
                [
                  "User 1",
                  "5.77",
                  "6.18",
                  "5.97",
                  "4.06",
                  "4.23",
                  "4.51"
                ],
                [
                  "User 2",
                  "5.28",
                  "5.66",
                  "5.46",
                  "3.71",
                  "3.87",
                  "4.13"
                ],
                [
                  "User 3",
                  "2.21",
                  "2.37",
                  "2.29",
                  "1.55",
                  "1.62",
                  "1.73"
                ],
                [
                  "User 4",
                  "2.41",
                  "2.58",
                  "2.49",
                  "1.69",
                  "1.77",
                  "1.88"
                ],
                [
                  "User 5",
                  "1.99",
                  "2.13",
                  "2.06",
                  "1.4",
                  "1.46",
                  "1.56"
                ]
              ],
              "shape": {
                "columns": 6,
                "rows": 5
              }
            },
            "text/html": [
              "<div>\n",
              "<style scoped>\n",
              "    .dataframe tbody tr th:only-of-type {\n",
              "        vertical-align: middle;\n",
              "    }\n",
              "\n",
              "    .dataframe tbody tr th {\n",
              "        vertical-align: top;\n",
              "    }\n",
              "\n",
              "    .dataframe thead th {\n",
              "        text-align: right;\n",
              "    }\n",
              "</style>\n",
              "<table border=\"1\" class=\"dataframe\">\n",
              "  <thead>\n",
              "    <tr style=\"text-align: right;\">\n",
              "      <th></th>\n",
              "      <th>Item 1</th>\n",
              "      <th>Item 2</th>\n",
              "      <th>Item 3</th>\n",
              "      <th>Item 4</th>\n",
              "      <th>Item 5</th>\n",
              "      <th>Item 6</th>\n",
              "    </tr>\n",
              "  </thead>\n",
              "  <tbody>\n",
              "    <tr>\n",
              "      <th>User 1</th>\n",
              "      <td>5.77</td>\n",
              "      <td>6.18</td>\n",
              "      <td>5.97</td>\n",
              "      <td>4.06</td>\n",
              "      <td>4.23</td>\n",
              "      <td>4.51</td>\n",
              "    </tr>\n",
              "    <tr>\n",
              "      <th>User 2</th>\n",
              "      <td>5.28</td>\n",
              "      <td>5.66</td>\n",
              "      <td>5.46</td>\n",
              "      <td>3.71</td>\n",
              "      <td>3.87</td>\n",
              "      <td>4.13</td>\n",
              "    </tr>\n",
              "    <tr>\n",
              "      <th>User 3</th>\n",
              "      <td>2.21</td>\n",
              "      <td>2.37</td>\n",
              "      <td>2.29</td>\n",
              "      <td>1.55</td>\n",
              "      <td>1.62</td>\n",
              "      <td>1.73</td>\n",
              "    </tr>\n",
              "    <tr>\n",
              "      <th>User 4</th>\n",
              "      <td>2.41</td>\n",
              "      <td>2.58</td>\n",
              "      <td>2.49</td>\n",
              "      <td>1.69</td>\n",
              "      <td>1.77</td>\n",
              "      <td>1.88</td>\n",
              "    </tr>\n",
              "    <tr>\n",
              "      <th>User 5</th>\n",
              "      <td>1.99</td>\n",
              "      <td>2.13</td>\n",
              "      <td>2.06</td>\n",
              "      <td>1.40</td>\n",
              "      <td>1.46</td>\n",
              "      <td>1.56</td>\n",
              "    </tr>\n",
              "  </tbody>\n",
              "</table>\n",
              "</div>"
            ],
            "text/plain": [
              "        Item 1  Item 2  Item 3  Item 4  Item 5  Item 6\n",
              "User 1    5.77    6.18    5.97    4.06    4.23    4.51\n",
              "User 2    5.28    5.66    5.46    3.71    3.87    4.13\n",
              "User 3    2.21    2.37    2.29    1.55    1.62    1.73\n",
              "User 4    2.41    2.58    2.49    1.69    1.77    1.88\n",
              "User 5    1.99    2.13    2.06    1.40    1.46    1.56"
            ]
          },
          "execution_count": 8,
          "metadata": {},
          "output_type": "execute_result"
        }
      ],
      "source": [
        "nmf = NMF(\n",
        "  k=1, max_iter=100, learning_rate=0.01, lambda_reg=0.0, verbose=VERBOSE\n",
        ").fit(dataset)\n",
        "print(\"User factors:\\n\", nmf.u_factors)\n",
        "print(\"Item factors:\\n\", nmf.i_factors)\n",
        "\n",
        "recon_R = np.empty(dataset.matrix.shape)\n",
        "for u, i in itertools.product(range(recon_R.shape[0]), range(recon_R.shape[1])):\n",
        "  recon_R[u, i] = nmf.score(u, i)\n",
        "\n",
        "rmse = np.sqrt((((R - recon_R) ** 2) * R_mask).mean())\n",
        "print(f\"\\nRMSE = {rmse:.3f}\")\n",
        "print(\"Reconstructed matrix:\")\n",
        "pd.DataFrame(recon_R.round(2),\n",
        "             index=[f\"User {u + 1}\" for u in np.arange(dataset.num_users)],\n",
        "             columns=[f\"Item {i + 1}\" for i in np.arange(dataset.num_items)])"
      ]
    },
    {
      "cell_type": "markdown",
      "metadata": {
        "id": "7d28vTtZOZV9"
      },
      "source": [
        "### NMF on MovieLens 100K"
      ]
    },
    {
      "cell_type": "code",
      "execution_count": 9,
      "metadata": {
        "colab": {
          "base_uri": "https://localhost:8080/"
        },
        "id": "wvGcKBeQs9gD",
        "outputId": "f085a6d6-c8a6-4595-da5e-d62e0eae7b2f"
      },
      "outputs": [
        {
          "name": "stdout",
          "output_type": "stream",
          "text": [
            "\n",
            "TEST:\n",
            "...\n",
            "          |   RMSE | Train (s) | Test (s)\n",
            "--------- + ------ + --------- + --------\n",
            "NMF(K=10) | 1.0196 |    0.4572 |   0.2145\n",
            "\n"
          ]
        }
      ],
      "source": [
        "K = 10\n",
        "nmf = NMF(k=K, max_iter=200, learning_rate=0.01, lambda_reg=0.01, use_bias=False,\n",
        "          verbose=VERBOSE, seed=SEED, name=f\"NMF(K={K})\")\n",
        "          \n",
        "data = movielens.load_feedback(variant=\"100K\")\n",
        "rs = RatioSplit(data, test_size=0.2, seed=SEED, verbose=VERBOSE)\n",
        "rmse = cornac.metrics.RMSE()\n",
        "cornac.Experiment(eval_method=rs, models=[nmf], metrics=[rmse]).run()"
      ]
    },
    {
      "cell_type": "markdown",
      "metadata": {
        "id": "0V4hcvmFzlUw"
      },
      "source": [
        "## 6. Interpreting Latent Factors\n",
        "\n",
        "To gain a sense of the inner workings of matrix factorization techniques, let us see how the latent factors could give us some information about how items are associated with one another, as well as which items tend to be associated with a particular factor."
      ]
    },
    {
      "cell_type": "code",
      "execution_count": 10,
      "metadata": {
        "colab": {
          "base_uri": "https://localhost:8080/",
          "height": 103,
          "referenced_widgets": [
            "9178331d0afd4131a00a97ca2fa2f6e3",
            "96eb392e9f3346cb883a166425d08e28",
            "fd3dfb45f1ad4f36a8aff0e8bfe0b391",
            "ba6583d4a808407f974dad86adfc0507",
            "4665463715854cec9028aa3d8a3ffd6c",
            "113d5dfb59c64231afa5d9424152feb3",
            "6cf02649f343423d84fac6eb25e444b5",
            "b7f8d01e14b447388ef41e4189138e23",
            "2ae22366fd344af4912f2e0d6fcf6195",
            "0c65ac88f7fa4f638ec15c36ce084baa",
            "49b53a5aa68145dfbb48ef7b1ef63807"
          ]
        },
        "id": "shUv6el6sYON",
        "outputId": "03aba8b9-868e-475c-83da-39d57133853f"
      },
      "outputs": [],
      "source": [
        "# Download some information of MovieLens 100K dataset\n",
        "item_df = pd.read_csv(\n",
        "  cache(\"http://files.grouplens.org/datasets/movielens/ml-100k/u.item\"), \n",
        "  sep=\"|\", encoding=\"ISO-8859-1\",\n",
        "  names=[\"ItemID\", \"Title\", \"Release Date\", \"Video Release Date\", \"IMDb URL\", \n",
        "         \"unknown\", \"Action\", \"Adventure\", \"Animation\", \"Children's\", \"Comedy\", \n",
        "         \"Crime\", \"Documentary\", \"Drama\", \"Fantasy\", \"Film-Noir\", \"Horror\", \n",
        "         \"Musical\", \"Mystery\", \"Romance\", \"Sci-Fi\", \"Thriller\", \"War\", \"Western\"]\n",
        ").set_index(\"ItemID\").drop(columns=[\"Video Release Date\", \"IMDb URL\", \"unknown\"])"
      ]
    },
    {
      "cell_type": "markdown",
      "metadata": {
        "id": "NFfXCg1EftDS"
      },
      "source": [
        "Let's retrain two models MF and NMF with 10 latent factors and compare their RMSE.  Is there any difference? Why?"
      ]
    },
    {
      "cell_type": "code",
      "execution_count": 11,
      "metadata": {
        "colab": {
          "base_uri": "https://localhost:8080/"
        },
        "id": "iBagT-DLJG_J",
        "outputId": "ce5ac8e4-20d4-48a7-a1f9-73164b2401b0"
      },
      "outputs": [
        {
          "name": "stdout",
          "output_type": "stream",
          "text": [
            "\n",
            "TEST:\n",
            "...\n",
            "          |   RMSE | Train (s) | Test (s)\n",
            "--------- + ------ + --------- + --------\n",
            "MF(K=10)  | 0.9027 |    0.0142 |   0.1533\n",
            "NMF(K=10) | 1.0196 |    0.4238 |   0.2067\n",
            "\n"
          ]
        }
      ],
      "source": [
        "K = 10\n",
        "mf = MF(k=K, max_iter=20, learning_rate=0.01, lambda_reg=0.01, use_bias=False, \n",
        "        verbose=VERBOSE, seed=SEED, name=f\"MF(K={K})\")\n",
        "nmf = NMF(k=K, max_iter=200, learning_rate=0.01, lambda_reg=0.01, use_bias=False, \n",
        "          verbose=VERBOSE, seed=SEED, name=f\"NMF(K={K})\")\n",
        "  \n",
        "data = movielens.load_feedback(variant=\"100K\")\n",
        "rs = RatioSplit(data, test_size=0.2, seed=SEED, verbose=VERBOSE)\n",
        "rmse = cornac.metrics.RMSE()\n",
        "cornac.Experiment(eval_method=rs, models=[mf, nmf], metrics=[rmse]).run()"
      ]
    },
    {
      "cell_type": "markdown",
      "metadata": {
        "id": "vXcoCs33t-Zg"
      },
      "source": [
        "### MF\n",
        "\n",
        "Below is the variance of each latent dimension across different items.  If a factor or dimension has higher variance, it is better at discriminating among different items.  Conversely, if the variance of a factor is too small, it implies that most items would have a similar value for that factor."
      ]
    },
    {
      "cell_type": "code",
      "execution_count": 12,
      "metadata": {
        "colab": {
          "base_uri": "https://localhost:8080/",
          "height": 465
        },
        "id": "ZPvIpzrLtIK7",
        "outputId": "94c3b45d-a014-44cd-b1d0-38bcc3c2e3c5"
      },
      "outputs": [
        {
          "name": "stderr",
          "output_type": "stream",
          "text": [
            "/tmp/ipykernel_4862/1568245657.py:3: FutureWarning: \n",
            "\n",
            "Passing `palette` without assigning `hue` is deprecated and will be removed in v0.14.0. Assign the `x` variable to `hue` and set `legend=False` for the same effect.\n",
            "\n",
            "  sns.barplot(x=\"Factor\", y=\"Variance\", data=var_df, palette=\"ch:.25\", ax=ax);\n"
          ]
        },
        {
          "data": {
            "image/png": "[encoded data removed]",
            "text/plain": [
              "<Figure size 1200x500 with 1 Axes>"
            ]
          },
          "metadata": {},
          "output_type": "display_data"
        }
      ],
      "source": [
        "var_df = pd.DataFrame({\"Factor\": np.arange(K), \"Variance\": np.var(mf.i_factors, axis=0)})\n",
        "fig, ax = plt.subplots(figsize=(12, 5))\n",
        "sns.barplot(x=\"Factor\", y=\"Variance\", data=var_df, palette=\"ch:.25\", ax=ax);"
      ]
    },
    {
      "cell_type": "code",
      "execution_count": 13,
      "metadata": {
        "colab": {
          "base_uri": "https://localhost:8080/",
          "height": 1000
        },
        "id": "lv07yu0Hrygu",
        "outputId": "b7801cd1-1c7e-4028-e311-ab97cf418978"
      },
      "outputs": [
        {
          "ename": "NameError",
          "evalue": "name 'adjust_text' is not defined",
          "output_type": "error",
          "traceback": [
            "\u001b[0;31m---------------------------------------------------------------------------\u001b[0m",
            "\u001b[0;31mNameError\u001b[0m                                 Traceback (most recent call last)",
            "Cell \u001b[0;32mIn[13], line 11\u001b[0m\n\u001b[1;32m      9\u001b[0m item_idx2id \u001b[38;5;241m=\u001b[39m \u001b[38;5;28mlist\u001b[39m(mf\u001b[38;5;241m.\u001b[39mtrain_set\u001b[38;5;241m.\u001b[39mitem_ids)\n\u001b[1;32m     10\u001b[0m titles \u001b[38;5;241m=\u001b[39m item_df\u001b[38;5;241m.\u001b[39mloc[[\u001b[38;5;28mint\u001b[39m(item_idx2id[i]) \u001b[38;5;28;01mfor\u001b[39;00m i \u001b[38;5;129;01min\u001b[39;00m sample_inds]][\u001b[38;5;124m\"\u001b[39m\u001b[38;5;124mTitle\u001b[39m\u001b[38;5;124m\"\u001b[39m]\u001b[38;5;241m.\u001b[39mvalues\n\u001b[0;32m---> 11\u001b[0m \u001b[43madjust_text\u001b[49m(\n\u001b[1;32m     12\u001b[0m   [plt\u001b[38;5;241m.\u001b[39mtext(\u001b[38;5;241m*\u001b[39msample_df\u001b[38;5;241m.\u001b[39mloc[i]\u001b[38;5;241m.\u001b[39mvalues, titles[i], size\u001b[38;5;241m=\u001b[39m\u001b[38;5;241m10\u001b[39m) \u001b[38;5;28;01mfor\u001b[39;00m i \u001b[38;5;129;01min\u001b[39;00m \u001b[38;5;28mrange\u001b[39m(\u001b[38;5;28mlen\u001b[39m(titles))]\n\u001b[1;32m     13\u001b[0m );\n",
            "\u001b[0;31mNameError\u001b[0m: name 'adjust_text' is not defined"
          ]
        },
        {
          "data": {
            "image/png": "[encoded data removed]",
            "text/plain": [
              "<Figure size 1100x1100 with 1 Axes>"
            ]
          },
          "metadata": {},
          "output_type": "display_data"
        }
      ],
      "source": [
        "TOP2F = (0, 2)\n",
        "SAMPLE_SIZE = 20\n",
        "\n",
        "rng = np.random.RandomState(SEED)\n",
        "sample_inds = rng.choice(np.arange(mf.i_factors.shape[0]), size=SAMPLE_SIZE, replace=False)\n",
        "sample_df = pd.DataFrame(data=mf.i_factors[sample_inds][:, TOP2F], columns=[\"x\", \"y\"])\n",
        "\n",
        "sns.lmplot(x=\"x\", y=\"y\", data=sample_df, height=11.0, fit_reg=False)\n",
        "item_idx2id = list(mf.train_set.item_ids)\n",
        "titles = item_df.loc[[int(item_idx2id[i]) for i in sample_inds]][\"Title\"].values\n",
        "adjust_text(\n",
        "  [plt.text(*sample_df.loc[i].values, titles[i], size=10) for i in range(len(titles))]\n",
        ");"
      ]
    },
    {
      "cell_type": "markdown",
      "metadata": {
        "id": "i-Mp8q_Ut_mP"
      },
      "source": [
        "### NMF\n",
        "\n",
        "Below is the variance of each latent dimension."
      ]
    },
    {
      "cell_type": "code",
      "execution_count": null,
      "metadata": {
        "colab": {
          "base_uri": "https://localhost:8080/",
          "height": 465
        },
        "id": "WC7PRQVxthL_",
        "outputId": "30ee8840-ad76-4a25-d069-d97700934034"
      },
      "outputs": [
        {
          "name": "stderr",
          "output_type": "stream",
          "text": [
            "/tmp/ipykernel_2356/1051409444.py:3: FutureWarning: \n",
            "\n",
            "Passing `palette` without assigning `hue` is deprecated and will be removed in v0.14.0. Assign the `x` variable to `hue` and set `legend=False` for the same effect.\n",
            "\n",
            "  sns.barplot(x=\"Factor\", y=\"Variance\", data=var_df, palette=\"ch:.25\", ax=ax);\n"
          ]
        },
        {
          "data": {
            "image/png": "[encoded data removed]",
            "text/plain": [
              "<Figure size 1200x500 with 1 Axes>"
            ]
          },
          "metadata": {},
          "output_type": "display_data"
        }
      ],
      "source": [
        "var_df = pd.DataFrame({\"Factor\": np.arange(K), \"Variance\": np.var(nmf.i_factors, axis=0)})\n",
        "fig, ax = plt.subplots(figsize=(12, 5))\n",
        "sns.barplot(x=\"Factor\", y=\"Variance\", data=var_df, palette=\"ch:.25\", ax=ax);"
      ]
    },
    {
      "cell_type": "code",
      "execution_count": null,
      "metadata": {
        "colab": {
          "base_uri": "https://localhost:8080/",
          "height": 1000
        },
        "id": "NnnDUUcjMQbx",
        "outputId": "2cfc4525-35df-4e39-a76d-873569d17b21"
      },
      "outputs": [
        {
          "ename": "NameError",
          "evalue": "name 'adjust_text' is not defined",
          "output_type": "error",
          "traceback": [
            "\u001b[0;31m---------------------------------------------------------------------------\u001b[0m",
            "\u001b[0;31mNameError\u001b[0m                                 Traceback (most recent call last)",
            "Cell \u001b[0;32mIn[17], line 11\u001b[0m\n\u001b[1;32m      9\u001b[0m item_idx2id \u001b[38;5;241m=\u001b[39m \u001b[38;5;28mlist\u001b[39m(nmf\u001b[38;5;241m.\u001b[39mtrain_set\u001b[38;5;241m.\u001b[39mitem_ids)\n\u001b[1;32m     10\u001b[0m titles \u001b[38;5;241m=\u001b[39m item_df\u001b[38;5;241m.\u001b[39mloc[[\u001b[38;5;28mint\u001b[39m(item_idx2id[i]) \u001b[38;5;28;01mfor\u001b[39;00m i \u001b[38;5;129;01min\u001b[39;00m sample_inds]][\u001b[38;5;124m\"\u001b[39m\u001b[38;5;124mTitle\u001b[39m\u001b[38;5;124m\"\u001b[39m]\u001b[38;5;241m.\u001b[39mvalues\n\u001b[0;32m---> 11\u001b[0m \u001b[43madjust_text\u001b[49m(\n\u001b[1;32m     12\u001b[0m   [plt\u001b[38;5;241m.\u001b[39mtext(\u001b[38;5;241m*\u001b[39msample_df\u001b[38;5;241m.\u001b[39mloc[i]\u001b[38;5;241m.\u001b[39mvalues, titles[i], size\u001b[38;5;241m=\u001b[39m\u001b[38;5;241m10\u001b[39m) \u001b[38;5;28;01mfor\u001b[39;00m i \u001b[38;5;129;01min\u001b[39;00m \u001b[38;5;28mrange\u001b[39m(\u001b[38;5;28mlen\u001b[39m(titles))]\n\u001b[1;32m     13\u001b[0m );\n",
            "\u001b[0;31mNameError\u001b[0m: name 'adjust_text' is not defined"
          ]
        },
        {
          "data": {
            "image/png": "[encoded data removed]",
            "text/plain": [
              "<Figure size 1100x1100 with 1 Axes>"
            ]
          },
          "metadata": {},
          "output_type": "display_data"
        }
      ],
      "source": [
        "TOP2F = (5, 6)\n",
        "SAMPLE_SIZE = 20\n",
        "\n",
        "rng = np.random.RandomState(SEED)\n",
        "sample_inds = rng.choice(np.arange(nmf.i_factors.shape[0]), size=SAMPLE_SIZE, replace=False)\n",
        "sample_df = pd.DataFrame(data=nmf.i_factors[sample_inds][:, TOP2F], columns=[\"x\", \"y\"])\n",
        "\n",
        "sns.lmplot(x=\"x\", y=\"y\", data=sample_df, height=11.0, fit_reg=False)\n",
        "item_idx2id = list(nmf.train_set.item_ids)\n",
        "titles = item_df.loc[[int(item_idx2id[i]) for i in sample_inds]][\"Title\"].values\n",
        "adjust_text(\n",
        "  [plt.text(*sample_df.loc[i].values, titles[i], size=10) for i in range(len(titles))]\n",
        ");"
      ]
    },
    {
      "cell_type": "markdown",
      "metadata": {
        "id": "lAw_dhjXgQhR"
      },
      "source": [
        "Let's see what are the top movies (i.e., highest values) of each latent dimension."
      ]
    },
    {
      "cell_type": "code",
      "execution_count": 14,
      "metadata": {
        "colab": {
          "base_uri": "https://localhost:8080/",
          "height": 493
        },
        "id": "r96QuhYLscx0",
        "outputId": "05f6c3ea-6632-485e-d54b-4e03247d1a0f"
      },
      "outputs": [
        {
          "data": {
            "application/vnd.microsoft.datawrangler.viewer.v0+json": {
              "columns": [
                {
                  "name": "index",
                  "rawType": "int64",
                  "type": "integer"
                },
                {
                  "name": "Factor 0",
                  "rawType": "object",
                  "type": "string"
                },
                {
                  "name": "Factor 1",
                  "rawType": "object",
                  "type": "string"
                },
                {
                  "name": "Factor 2",
                  "rawType": "object",
                  "type": "string"
                },
                {
                  "name": "Factor 3",
                  "rawType": "object",
                  "type": "string"
                },
                {
                  "name": "Factor 4",
                  "rawType": "object",
                  "type": "string"
                },
                {
                  "name": "Factor 5",
                  "rawType": "object",
                  "type": "string"
                },
                {
                  "name": "Factor 6",
                  "rawType": "object",
                  "type": "string"
                },
                {
                  "name": "Factor 7",
                  "rawType": "object",
                  "type": "string"
                },
                {
                  "name": "Factor 8",
                  "rawType": "object",
                  "type": "string"
                },
                {
                  "name": "Factor 9",
                  "rawType": "object",
                  "type": "string"
                }
              ],
              "conversionMethod": "pd.DataFrame",
              "ref": "e2229b51-9059-4673-b7c8-901b5b181873",
              "rows": [
                [
                  "0",
                  "Carpool (1996)",
                  "Best Men (1997)",
                  "Bhaji on the Beach (1993)",
                  "Garden of Finzi-Contini, The (Giardino dei Finzi-Contini, Il) (1970)",
                  "Tough and Deadly (1995)",
                  "Boys, Les (1997)",
                  "Ruby in Paradise (1993)",
                  "Deep Rising (1998)",
                  "City of Industry (1997)",
                  "Gumby: The Movie (1995)"
                ],
                [
                  "1",
                  "Good Man in Africa, A (1994)",
                  "Paradise Lost: The Child Murders at Robin Hood Hills (1996)",
                  "Panther (1995)",
                  "Kissed (1996)",
                  "8 Heads in a Duffel Bag (1997)",
                  "Nénette et Boni (1996)",
                  "Mina Tannenbaum (1994)",
                  "Captives (1994)",
                  "Romper Stomper (1992)",
                  "Turbulence (1997)"
                ],
                [
                  "2",
                  "Neon Bible, The (1995)",
                  "Angel Baby (1995)",
                  "Nina Takes a Lover (1994)",
                  "Ice Storm, The (1997)",
                  "Selena (1997)",
                  "Ghost in the Shell (Kokaku kidotai) (1995)",
                  "Harlem (1993)",
                  "Baby-Sitters Club, The (1995)",
                  "Tetsuo II: Body Hammer (1992)",
                  "Man in the Iron Mask, The (1998)"
                ],
                [
                  "3",
                  "C'est arrivé près de chez vous (1992)",
                  "Cemetery Man (Dellamorte Dellamore) (1994)",
                  "Cats Don't Dance (1997)",
                  "Low Down Dirty Shame, A (1994)",
                  "Love Jones (1997)",
                  "Grace of My Heart (1996)",
                  "Secret Agent, The (1996)",
                  "Prisoner of the Mountains (Kavkazsky Plennik) (1996)",
                  "Boys, Les (1997)",
                  "Radioland Murders (1994)"
                ],
                [
                  "4",
                  "Miami Rhapsody (1995)",
                  "Underground (1995)",
                  "Until the End of the World (Bis ans Ende der Welt) (1991)",
                  "Dunston Checks In (1996)",
                  "Little Princess, The (1939)",
                  "Stalingrad (1993)",
                  "White Balloon, The (1995)",
                  "Guilty as Sin (1993)",
                  "To Live (Huozhe) (1994)",
                  "Infinity (1996)"
                ]
              ],
              "shape": {
                "columns": 10,
                "rows": 5
              }
            },
            "text/html": [
              "<div>\n",
              "<style scoped>\n",
              "    .dataframe tbody tr th:only-of-type {\n",
              "        vertical-align: middle;\n",
              "    }\n",
              "\n",
              "    .dataframe tbody tr th {\n",
              "        vertical-align: top;\n",
              "    }\n",
              "\n",
              "    .dataframe thead th {\n",
              "        text-align: right;\n",
              "    }\n",
              "</style>\n",
              "<table border=\"1\" class=\"dataframe\">\n",
              "  <thead>\n",
              "    <tr style=\"text-align: right;\">\n",
              "      <th></th>\n",
              "      <th>Factor 0</th>\n",
              "      <th>Factor 1</th>\n",
              "      <th>Factor 2</th>\n",
              "      <th>Factor 3</th>\n",
              "      <th>Factor 4</th>\n",
              "      <th>Factor 5</th>\n",
              "      <th>Factor 6</th>\n",
              "      <th>Factor 7</th>\n",
              "      <th>Factor 8</th>\n",
              "      <th>Factor 9</th>\n",
              "    </tr>\n",
              "  </thead>\n",
              "  <tbody>\n",
              "    <tr>\n",
              "      <th>0</th>\n",
              "      <td>Carpool (1996)</td>\n",
              "      <td>Best Men (1997)</td>\n",
              "      <td>Bhaji on the Beach (1993)</td>\n",
              "      <td>Garden of Finzi-Contini, The (Giardino dei Fin...</td>\n",
              "      <td>Tough and Deadly (1995)</td>\n",
              "      <td>Boys, Les (1997)</td>\n",
              "      <td>Ruby in Paradise (1993)</td>\n",
              "      <td>Deep Rising (1998)</td>\n",
              "      <td>City of Industry (1997)</td>\n",
              "      <td>Gumby: The Movie (1995)</td>\n",
              "    </tr>\n",
              "    <tr>\n",
              "      <th>1</th>\n",
              "      <td>Good Man in Africa, A (1994)</td>\n",
              "      <td>Paradise Lost: The Child Murders at Robin Hood...</td>\n",
              "      <td>Panther (1995)</td>\n",
              "      <td>Kissed (1996)</td>\n",
              "      <td>8 Heads in a Duffel Bag (1997)</td>\n",
              "      <td>Nénette et Boni (1996)</td>\n",
              "      <td>Mina Tannenbaum (1994)</td>\n",
              "      <td>Captives (1994)</td>\n",
              "      <td>Romper Stomper (1992)</td>\n",
              "      <td>Turbulence (1997)</td>\n",
              "    </tr>\n",
              "    <tr>\n",
              "      <th>2</th>\n",
              "      <td>Neon Bible, The (1995)</td>\n",
              "      <td>Angel Baby (1995)</td>\n",
              "      <td>Nina Takes a Lover (1994)</td>\n",
              "      <td>Ice Storm, The (1997)</td>\n",
              "      <td>Selena (1997)</td>\n",
              "      <td>Ghost in the Shell (Kokaku kidotai) (1995)</td>\n",
              "      <td>Harlem (1993)</td>\n",
              "      <td>Baby-Sitters Club, The (1995)</td>\n",
              "      <td>Tetsuo II: Body Hammer (1992)</td>\n",
              "      <td>Man in the Iron Mask, The (1998)</td>\n",
              "    </tr>\n",
              "    <tr>\n",
              "      <th>3</th>\n",
              "      <td>C'est arrivé près de chez vous (1992)</td>\n",
              "      <td>Cemetery Man (Dellamorte Dellamore) (1994)</td>\n",
              "      <td>Cats Don't Dance (1997)</td>\n",
              "      <td>Low Down Dirty Shame, A (1994)</td>\n",
              "      <td>Love Jones (1997)</td>\n",
              "      <td>Grace of My Heart (1996)</td>\n",
              "      <td>Secret Agent, The (1996)</td>\n",
              "      <td>Prisoner of the Mountains (Kavkazsky Plennik) ...</td>\n",
              "      <td>Boys, Les (1997)</td>\n",
              "      <td>Radioland Murders (1994)</td>\n",
              "    </tr>\n",
              "    <tr>\n",
              "      <th>4</th>\n",
              "      <td>Miami Rhapsody (1995)</td>\n",
              "      <td>Underground (1995)</td>\n",
              "      <td>Until the End of the World (Bis ans Ende der W...</td>\n",
              "      <td>Dunston Checks In (1996)</td>\n",
              "      <td>Little Princess, The (1939)</td>\n",
              "      <td>Stalingrad (1993)</td>\n",
              "      <td>White Balloon, The (1995)</td>\n",
              "      <td>Guilty as Sin (1993)</td>\n",
              "      <td>To Live (Huozhe) (1994)</td>\n",
              "      <td>Infinity (1996)</td>\n",
              "    </tr>\n",
              "  </tbody>\n",
              "</table>\n",
              "</div>"
            ],
            "text/plain": [
              "                                Factor 0  \\\n",
              "0                         Carpool (1996)   \n",
              "1           Good Man in Africa, A (1994)   \n",
              "2                 Neon Bible, The (1995)   \n",
              "3  C'est arrivé près de chez vous (1992)   \n",
              "4                  Miami Rhapsody (1995)   \n",
              "\n",
              "                                            Factor 1  \\\n",
              "0                                    Best Men (1997)   \n",
              "1  Paradise Lost: The Child Murders at Robin Hood...   \n",
              "2                                  Angel Baby (1995)   \n",
              "3         Cemetery Man (Dellamorte Dellamore) (1994)   \n",
              "4                                 Underground (1995)   \n",
              "\n",
              "                                            Factor 2  \\\n",
              "0                          Bhaji on the Beach (1993)   \n",
              "1                                     Panther (1995)   \n",
              "2                          Nina Takes a Lover (1994)   \n",
              "3                            Cats Don't Dance (1997)   \n",
              "4  Until the End of the World (Bis ans Ende der W...   \n",
              "\n",
              "                                            Factor 3  \\\n",
              "0  Garden of Finzi-Contini, The (Giardino dei Fin...   \n",
              "1                                      Kissed (1996)   \n",
              "2                              Ice Storm, The (1997)   \n",
              "3                     Low Down Dirty Shame, A (1994)   \n",
              "4                           Dunston Checks In (1996)   \n",
              "\n",
              "                         Factor 4                                    Factor 5  \\\n",
              "0         Tough and Deadly (1995)                            Boys, Les (1997)   \n",
              "1  8 Heads in a Duffel Bag (1997)                      Nénette et Boni (1996)   \n",
              "2                   Selena (1997)  Ghost in the Shell (Kokaku kidotai) (1995)   \n",
              "3               Love Jones (1997)                    Grace of My Heart (1996)   \n",
              "4     Little Princess, The (1939)                           Stalingrad (1993)   \n",
              "\n",
              "                    Factor 6  \\\n",
              "0    Ruby in Paradise (1993)   \n",
              "1     Mina Tannenbaum (1994)   \n",
              "2              Harlem (1993)   \n",
              "3   Secret Agent, The (1996)   \n",
              "4  White Balloon, The (1995)   \n",
              "\n",
              "                                            Factor 7  \\\n",
              "0                                 Deep Rising (1998)   \n",
              "1                                    Captives (1994)   \n",
              "2                      Baby-Sitters Club, The (1995)   \n",
              "3  Prisoner of the Mountains (Kavkazsky Plennik) ...   \n",
              "4                               Guilty as Sin (1993)   \n",
              "\n",
              "                        Factor 8                          Factor 9  \n",
              "0        City of Industry (1997)           Gumby: The Movie (1995)  \n",
              "1          Romper Stomper (1992)                 Turbulence (1997)  \n",
              "2  Tetsuo II: Body Hammer (1992)  Man in the Iron Mask, The (1998)  \n",
              "3               Boys, Les (1997)          Radioland Murders (1994)  \n",
              "4        To Live (Huozhe) (1994)                   Infinity (1996)  "
            ]
          },
          "execution_count": 14,
          "metadata": {},
          "output_type": "execute_result"
        }
      ],
      "source": [
        "item_idx2id = list(nmf.train_set.item_ids)\n",
        "top_items = {}\n",
        "for k in range(K):\n",
        "  top_inds = np.argsort(nmf.i_factors[:, k])[-5:][::-1]\n",
        "  top_items[f\"Factor {k}\"] = item_df.loc[[int(item_idx2id[i]) for i in top_inds]][\"Title\"].values\n",
        "pd.DataFrame(top_items)"
      ]
    },
    {
      "cell_type": "markdown",
      "metadata": {
        "id": "AWTePvGqgeM9"
      },
      "source": [
        "For each latent factor, we take the top 100 movies with the highest values for that factor.  We then bin them into their respective genres. This hints at whether there is a relationship or association between latent factors and movie genres."
      ]
    },
    {
      "cell_type": "code",
      "execution_count": 15,
      "metadata": {
        "colab": {
          "base_uri": "https://localhost:8080/",
          "height": 614
        },
        "id": "zOOBLbjSwJf2",
        "outputId": "5ba393ef-2827-4563-e8cd-6ef19ec624f0"
      },
      "outputs": [
        {
          "data": {
            "application/vnd.microsoft.datawrangler.viewer.v0+json": {
              "columns": [
                {
                  "name": "index",
                  "rawType": "object",
                  "type": "string"
                },
                {
                  "name": "Factor 0",
                  "rawType": "int64",
                  "type": "integer"
                },
                {
                  "name": "Factor 1",
                  "rawType": "int64",
                  "type": "integer"
                },
                {
                  "name": "Factor 2",
                  "rawType": "int64",
                  "type": "integer"
                },
                {
                  "name": "Factor 3",
                  "rawType": "int64",
                  "type": "integer"
                },
                {
                  "name": "Factor 4",
                  "rawType": "int64",
                  "type": "integer"
                },
                {
                  "name": "Factor 5",
                  "rawType": "int64",
                  "type": "integer"
                },
                {
                  "name": "Factor 6",
                  "rawType": "int64",
                  "type": "integer"
                },
                {
                  "name": "Factor 7",
                  "rawType": "int64",
                  "type": "integer"
                },
                {
                  "name": "Factor 8",
                  "rawType": "int64",
                  "type": "integer"
                },
                {
                  "name": "Factor 9",
                  "rawType": "int64",
                  "type": "integer"
                }
              ],
              "conversionMethod": "pd.DataFrame",
              "ref": "0dfd3b9d-592f-4baa-952f-2f485d6cafd4",
              "rows": [
                [
                  "Action",
                  "18",
                  "11",
                  "12",
                  "17",
                  "12",
                  "7",
                  "4",
                  "5",
                  "20",
                  "15"
                ],
                [
                  "Adventure",
                  "12",
                  "4",
                  "11",
                  "3",
                  "5",
                  "3",
                  "6",
                  "2",
                  "13",
                  "11"
                ],
                [
                  "Animation",
                  "0",
                  "1",
                  "1",
                  "5",
                  "3",
                  "2",
                  "5",
                  "0",
                  "0",
                  "3"
                ],
                [
                  "Children's",
                  "5",
                  "3",
                  "6",
                  "5",
                  "5",
                  "5",
                  "2",
                  "2",
                  "8",
                  "20"
                ],
                [
                  "Comedy",
                  "27",
                  "29",
                  "31",
                  "36",
                  "22",
                  "32",
                  "33",
                  "28",
                  "24",
                  "38"
                ],
                [
                  "Crime",
                  "7",
                  "9",
                  "5",
                  "9",
                  "4",
                  "3",
                  "6",
                  "4",
                  "9",
                  "3"
                ],
                [
                  "Documentary",
                  "3",
                  "10",
                  "1",
                  "3",
                  "1",
                  "6",
                  "4",
                  "3",
                  "2",
                  "3"
                ],
                [
                  "Drama",
                  "39",
                  "42",
                  "45",
                  "43",
                  "49",
                  "50",
                  "55",
                  "60",
                  "45",
                  "30"
                ],
                [
                  "Fantasy",
                  "0",
                  "1",
                  "1",
                  "0",
                  "1",
                  "1",
                  "0",
                  "0",
                  "1",
                  "2"
                ],
                [
                  "Film-Noir",
                  "1",
                  "0",
                  "0",
                  "3",
                  "2",
                  "1",
                  "0",
                  "1",
                  "0",
                  "1"
                ],
                [
                  "Horror",
                  "4",
                  "5",
                  "6",
                  "4",
                  "4",
                  "7",
                  "6",
                  "1",
                  "6",
                  "7"
                ],
                [
                  "Musical",
                  "2",
                  "2",
                  "1",
                  "9",
                  "2",
                  "1",
                  "3",
                  "5",
                  "2",
                  "7"
                ],
                [
                  "Mystery",
                  "5",
                  "1",
                  "3",
                  "4",
                  "4",
                  "1",
                  "3",
                  "4",
                  "4",
                  "4"
                ],
                [
                  "Romance",
                  "13",
                  "11",
                  "23",
                  "12",
                  "12",
                  "14",
                  "15",
                  "18",
                  "7",
                  "15"
                ],
                [
                  "Sci-Fi",
                  "10",
                  "5",
                  "8",
                  "4",
                  "4",
                  "1",
                  "6",
                  "1",
                  "8",
                  "3"
                ],
                [
                  "Thriller",
                  "18",
                  "14",
                  "18",
                  "15",
                  "15",
                  "7",
                  "6",
                  "8",
                  "15",
                  "19"
                ],
                [
                  "War",
                  "8",
                  "5",
                  "2",
                  "4",
                  "2",
                  "5",
                  "2",
                  "2",
                  "2",
                  "0"
                ],
                [
                  "Western",
                  "6",
                  "2",
                  "0",
                  "0",
                  "4",
                  "1",
                  "1",
                  "2",
                  "2",
                  "1"
                ]
              ],
              "shape": {
                "columns": 10,
                "rows": 18
              }
            },
            "text/html": [
              "<div>\n",
              "<style scoped>\n",
              "    .dataframe tbody tr th:only-of-type {\n",
              "        vertical-align: middle;\n",
              "    }\n",
              "\n",
              "    .dataframe tbody tr th {\n",
              "        vertical-align: top;\n",
              "    }\n",
              "\n",
              "    .dataframe thead th {\n",
              "        text-align: right;\n",
              "    }\n",
              "</style>\n",
              "<table border=\"1\" class=\"dataframe\">\n",
              "  <thead>\n",
              "    <tr style=\"text-align: right;\">\n",
              "      <th></th>\n",
              "      <th>Factor 0</th>\n",
              "      <th>Factor 1</th>\n",
              "      <th>Factor 2</th>\n",
              "      <th>Factor 3</th>\n",
              "      <th>Factor 4</th>\n",
              "      <th>Factor 5</th>\n",
              "      <th>Factor 6</th>\n",
              "      <th>Factor 7</th>\n",
              "      <th>Factor 8</th>\n",
              "      <th>Factor 9</th>\n",
              "    </tr>\n",
              "  </thead>\n",
              "  <tbody>\n",
              "    <tr>\n",
              "      <th>Action</th>\n",
              "      <td>18</td>\n",
              "      <td>11</td>\n",
              "      <td>12</td>\n",
              "      <td>17</td>\n",
              "      <td>12</td>\n",
              "      <td>7</td>\n",
              "      <td>4</td>\n",
              "      <td>5</td>\n",
              "      <td>20</td>\n",
              "      <td>15</td>\n",
              "    </tr>\n",
              "    <tr>\n",
              "      <th>Adventure</th>\n",
              "      <td>12</td>\n",
              "      <td>4</td>\n",
              "      <td>11</td>\n",
              "      <td>3</td>\n",
              "      <td>5</td>\n",
              "      <td>3</td>\n",
              "      <td>6</td>\n",
              "      <td>2</td>\n",
              "      <td>13</td>\n",
              "      <td>11</td>\n",
              "    </tr>\n",
              "    <tr>\n",
              "      <th>Animation</th>\n",
              "      <td>0</td>\n",
              "      <td>1</td>\n",
              "      <td>1</td>\n",
              "      <td>5</td>\n",
              "      <td>3</td>\n",
              "      <td>2</td>\n",
              "      <td>5</td>\n",
              "      <td>0</td>\n",
              "      <td>0</td>\n",
              "      <td>3</td>\n",
              "    </tr>\n",
              "    <tr>\n",
              "      <th>Children's</th>\n",
              "      <td>5</td>\n",
              "      <td>3</td>\n",
              "      <td>6</td>\n",
              "      <td>5</td>\n",
              "      <td>5</td>\n",
              "      <td>5</td>\n",
              "      <td>2</td>\n",
              "      <td>2</td>\n",
              "      <td>8</td>\n",
              "      <td>20</td>\n",
              "    </tr>\n",
              "    <tr>\n",
              "      <th>Comedy</th>\n",
              "      <td>27</td>\n",
              "      <td>29</td>\n",
              "      <td>31</td>\n",
              "      <td>36</td>\n",
              "      <td>22</td>\n",
              "      <td>32</td>\n",
              "      <td>33</td>\n",
              "      <td>28</td>\n",
              "      <td>24</td>\n",
              "      <td>38</td>\n",
              "    </tr>\n",
              "    <tr>\n",
              "      <th>Crime</th>\n",
              "      <td>7</td>\n",
              "      <td>9</td>\n",
              "      <td>5</td>\n",
              "      <td>9</td>\n",
              "      <td>4</td>\n",
              "      <td>3</td>\n",
              "      <td>6</td>\n",
              "      <td>4</td>\n",
              "      <td>9</td>\n",
              "      <td>3</td>\n",
              "    </tr>\n",
              "    <tr>\n",
              "      <th>Documentary</th>\n",
              "      <td>3</td>\n",
              "      <td>10</td>\n",
              "      <td>1</td>\n",
              "      <td>3</td>\n",
              "      <td>1</td>\n",
              "      <td>6</td>\n",
              "      <td>4</td>\n",
              "      <td>3</td>\n",
              "      <td>2</td>\n",
              "      <td>3</td>\n",
              "    </tr>\n",
              "    <tr>\n",
              "      <th>Drama</th>\n",
              "      <td>39</td>\n",
              "      <td>42</td>\n",
              "      <td>45</td>\n",
              "      <td>43</td>\n",
              "      <td>49</td>\n",
              "      <td>50</td>\n",
              "      <td>55</td>\n",
              "      <td>60</td>\n",
              "      <td>45</td>\n",
              "      <td>30</td>\n",
              "    </tr>\n",
              "    <tr>\n",
              "      <th>Fantasy</th>\n",
              "      <td>0</td>\n",
              "      <td>1</td>\n",
              "      <td>1</td>\n",
              "      <td>0</td>\n",
              "      <td>1</td>\n",
              "      <td>1</td>\n",
              "      <td>0</td>\n",
              "      <td>0</td>\n",
              "      <td>1</td>\n",
              "      <td>2</td>\n",
              "    </tr>\n",
              "    <tr>\n",
              "      <th>Film-Noir</th>\n",
              "      <td>1</td>\n",
              "      <td>0</td>\n",
              "      <td>0</td>\n",
              "      <td>3</td>\n",
              "      <td>2</td>\n",
              "      <td>1</td>\n",
              "      <td>0</td>\n",
              "      <td>1</td>\n",
              "      <td>0</td>\n",
              "      <td>1</td>\n",
              "    </tr>\n",
              "    <tr>\n",
              "      <th>Horror</th>\n",
              "      <td>4</td>\n",
              "      <td>5</td>\n",
              "      <td>6</td>\n",
              "      <td>4</td>\n",
              "      <td>4</td>\n",
              "      <td>7</td>\n",
              "      <td>6</td>\n",
              "      <td>1</td>\n",
              "      <td>6</td>\n",
              "      <td>7</td>\n",
              "    </tr>\n",
              "    <tr>\n",
              "      <th>Musical</th>\n",
              "      <td>2</td>\n",
              "      <td>2</td>\n",
              "      <td>1</td>\n",
              "      <td>9</td>\n",
              "      <td>2</td>\n",
              "      <td>1</td>\n",
              "      <td>3</td>\n",
              "      <td>5</td>\n",
              "      <td>2</td>\n",
              "      <td>7</td>\n",
              "    </tr>\n",
              "    <tr>\n",
              "      <th>Mystery</th>\n",
              "      <td>5</td>\n",
              "      <td>1</td>\n",
              "      <td>3</td>\n",
              "      <td>4</td>\n",
              "      <td>4</td>\n",
              "      <td>1</td>\n",
              "      <td>3</td>\n",
              "      <td>4</td>\n",
              "      <td>4</td>\n",
              "      <td>4</td>\n",
              "    </tr>\n",
              "    <tr>\n",
              "      <th>Romance</th>\n",
              "      <td>13</td>\n",
              "      <td>11</td>\n",
              "      <td>23</td>\n",
              "      <td>12</td>\n",
              "      <td>12</td>\n",
              "      <td>14</td>\n",
              "      <td>15</td>\n",
              "      <td>18</td>\n",
              "      <td>7</td>\n",
              "      <td>15</td>\n",
              "    </tr>\n",
              "    <tr>\n",
              "      <th>Sci-Fi</th>\n",
              "      <td>10</td>\n",
              "      <td>5</td>\n",
              "      <td>8</td>\n",
              "      <td>4</td>\n",
              "      <td>4</td>\n",
              "      <td>1</td>\n",
              "      <td>6</td>\n",
              "      <td>1</td>\n",
              "      <td>8</td>\n",
              "      <td>3</td>\n",
              "    </tr>\n",
              "    <tr>\n",
              "      <th>Thriller</th>\n",
              "      <td>18</td>\n",
              "      <td>14</td>\n",
              "      <td>18</td>\n",
              "      <td>15</td>\n",
              "      <td>15</td>\n",
              "      <td>7</td>\n",
              "      <td>6</td>\n",
              "      <td>8</td>\n",
              "      <td>15</td>\n",
              "      <td>19</td>\n",
              "    </tr>\n",
              "    <tr>\n",
              "      <th>War</th>\n",
              "      <td>8</td>\n",
              "      <td>5</td>\n",
              "      <td>2</td>\n",
              "      <td>4</td>\n",
              "      <td>2</td>\n",
              "      <td>5</td>\n",
              "      <td>2</td>\n",
              "      <td>2</td>\n",
              "      <td>2</td>\n",
              "      <td>0</td>\n",
              "    </tr>\n",
              "    <tr>\n",
              "      <th>Western</th>\n",
              "      <td>6</td>\n",
              "      <td>2</td>\n",
              "      <td>0</td>\n",
              "      <td>0</td>\n",
              "      <td>4</td>\n",
              "      <td>1</td>\n",
              "      <td>1</td>\n",
              "      <td>2</td>\n",
              "      <td>2</td>\n",
              "      <td>1</td>\n",
              "    </tr>\n",
              "  </tbody>\n",
              "</table>\n",
              "</div>"
            ],
            "text/plain": [
              "             Factor 0  Factor 1  Factor 2  Factor 3  Factor 4  Factor 5  \\\n",
              "Action             18        11        12        17        12         7   \n",
              "Adventure          12         4        11         3         5         3   \n",
              "Animation           0         1         1         5         3         2   \n",
              "Children's          5         3         6         5         5         5   \n",
              "Comedy             27        29        31        36        22        32   \n",
              "Crime               7         9         5         9         4         3   \n",
              "Documentary         3        10         1         3         1         6   \n",
              "Drama              39        42        45        43        49        50   \n",
              "Fantasy             0         1         1         0         1         1   \n",
              "Film-Noir           1         0         0         3         2         1   \n",
              "Horror              4         5         6         4         4         7   \n",
              "Musical             2         2         1         9         2         1   \n",
              "Mystery             5         1         3         4         4         1   \n",
              "Romance            13        11        23        12        12        14   \n",
              "Sci-Fi             10         5         8         4         4         1   \n",
              "Thriller           18        14        18        15        15         7   \n",
              "War                 8         5         2         4         2         5   \n",
              "Western             6         2         0         0         4         1   \n",
              "\n",
              "             Factor 6  Factor 7  Factor 8  Factor 9  \n",
              "Action              4         5        20        15  \n",
              "Adventure           6         2        13        11  \n",
              "Animation           5         0         0         3  \n",
              "Children's          2         2         8        20  \n",
              "Comedy             33        28        24        38  \n",
              "Crime               6         4         9         3  \n",
              "Documentary         4         3         2         3  \n",
              "Drama              55        60        45        30  \n",
              "Fantasy             0         0         1         2  \n",
              "Film-Noir           0         1         0         1  \n",
              "Horror              6         1         6         7  \n",
              "Musical             3         5         2         7  \n",
              "Mystery             3         4         4         4  \n",
              "Romance            15        18         7        15  \n",
              "Sci-Fi              6         1         8         3  \n",
              "Thriller            6         8        15        19  \n",
              "War                 2         2         2         0  \n",
              "Western             1         2         2         1  "
            ]
          },
          "execution_count": 15,
          "metadata": {},
          "output_type": "execute_result"
        }
      ],
      "source": [
        "item_idx2id = list(nmf.train_set.item_ids)\n",
        "top_genres = {}\n",
        "for k in range(K):\n",
        "  top_inds = np.argsort(nmf.i_factors[:, k])[-100:]\n",
        "  top_items = item_df.loc[[int(item_idx2id[i]) for i in top_inds]]\n",
        "  top_genres[f\"Factor {k}\"] = top_items.drop(columns=[\"Title\", \"Release Date\"]).sum(axis=0)\n",
        "pd.DataFrame(top_genres)"
      ]
    },
    {
      "cell_type": "markdown",
      "metadata": {
        "id": "0FmiuTYiP_pB"
      },
      "source": [
        "## References\n",
        "\n",
        "1.   Aggarwal, C. C. (2016). Recommender systems (Vol. 1). Cham: Springer International Publishing.\n",
        "2.   Koren, Y., Bell, R., & Volinsky, C. (2009). Matrix factorization techniques for recommender systems. Computer, 42(8), 30-37.\n",
        "3.   Lee, D. D., & Seung, H. S. (2001). Algorithms for non-negative matrix factorization. In Advances in neural information processing systems (pp. 556-562).\n",
        "\n"
      ]
    },
    {
      "cell_type": "markdown",
      "metadata": {},
      "source": []
    }
  ],
  "metadata": {
    "colab": {
      "name": "03_matrix_factorization.ipynb",
      "provenance": []
    },
    "kernelspec": {
      "display_name": "bigdataenv",
      "language": "python",
      "name": "python3"
    },
    "language_info": {
      "codemirror_mode": {
        "name": "ipython",
        "version": 3
      },
      "file_extension": ".py",
      "mimetype": "text/x-python",
      "name": "python",
      "nbconvert_exporter": "python",
      "pygments_lexer": "ipython3",
      "version": "3.12.3"
    },
    "widgets": {
      "application/vnd.jupyter.widget-state+json": {
        "02c8d1e1d2574ce9ac6c8499b9113a91": {
          "model_module": "@jupyter-widgets/controls",
          "model_module_version": "1.5.0",
          "model_name": "FloatProgressModel",
          "state": {
            "_dom_classes": [],
            "_model_module": "@jupyter-widgets/controls",
            "_model_module_version": "1.5.0",
            "_model_name": "FloatProgressModel",
            "_view_count": null,
            "_view_module": "@jupyter-widgets/controls",
            "_view_module_version": "1.5.0",
            "_view_name": "ProgressView",
            "bar_style": "success",
            "description": "",
            "description_tooltip": null,
            "layout": "IPY_MODEL_ebf784f86ca742f78de7966e878a5fa3",
            "max": 1,
            "min": 0,
            "orientation": "horizontal",
            "style": "IPY_MODEL_bc382427d1784fb2ad9a958907390d77",
            "value": 1
          }
        },
        "0c65ac88f7fa4f638ec15c36ce084baa": {
          "model_module": "@jupyter-widgets/base",
          "model_module_version": "1.2.0",
          "model_name": "LayoutModel",
          "state": {
            "_model_module": "@jupyter-widgets/base",
            "_model_module_version": "1.2.0",
            "_model_name": "LayoutModel",
            "_view_count": null,
            "_view_module": "@jupyter-widgets/base",
            "_view_module_version": "1.2.0",
            "_view_name": "LayoutView",
            "align_content": null,
            "align_items": null,
            "align_self": null,
            "border": null,
            "bottom": null,
            "display": null,
            "flex": null,
            "flex_flow": null,
            "grid_area": null,
            "grid_auto_columns": null,
            "grid_auto_flow": null,
            "grid_auto_rows": null,
            "grid_column": null,
            "grid_gap": null,
            "grid_row": null,
            "grid_template_areas": null,
            "grid_template_columns": null,
            "grid_template_rows": null,
            "height": null,
            "justify_content": null,
            "justify_items": null,
            "left": null,
            "margin": null,
            "max_height": null,
            "max_width": null,
            "min_height": null,
            "min_width": null,
            "object_fit": null,
            "object_position": null,
            "order": null,
            "overflow": null,
            "overflow_x": null,
            "overflow_y": null,
            "padding": null,
            "right": null,
            "top": null,
            "visibility": null,
            "width": null
          }
        },
        "0dc9e8fa017c4390ab003e90a3dc106b": {
          "model_module": "@jupyter-widgets/controls",
          "model_module_version": "1.5.0",
          "model_name": "HBoxModel",
          "state": {
            "_dom_classes": [],
            "_model_module": "@jupyter-widgets/controls",
            "_model_module_version": "1.5.0",
            "_model_name": "HBoxModel",
            "_view_count": null,
            "_view_module": "@jupyter-widgets/controls",
            "_view_module_version": "1.5.0",
            "_view_name": "HBoxView",
            "box_style": "",
            "children": [
              "IPY_MODEL_fe12393227844c01874654efdb771caa",
              "IPY_MODEL_38068b8faca943899599fed5392a34a5",
              "IPY_MODEL_8bce38e6e6164530ab839ee45c93ba8d"
            ],
            "layout": "IPY_MODEL_127e355a8789418d9f51f3007c10ff25"
          }
        },
        "113d5dfb59c64231afa5d9424152feb3": {
          "model_module": "@jupyter-widgets/base",
          "model_module_version": "1.2.0",
          "model_name": "LayoutModel",
          "state": {
            "_model_module": "@jupyter-widgets/base",
            "_model_module_version": "1.2.0",
            "_model_name": "LayoutModel",
            "_view_count": null,
            "_view_module": "@jupyter-widgets/base",
            "_view_module_version": "1.2.0",
            "_view_name": "LayoutView",
            "align_content": null,
            "align_items": null,
            "align_self": null,
            "border": null,
            "bottom": null,
            "display": null,
            "flex": null,
            "flex_flow": null,
            "grid_area": null,
            "grid_auto_columns": null,
            "grid_auto_flow": null,
            "grid_auto_rows": null,
            "grid_column": null,
            "grid_gap": null,
            "grid_row": null,
            "grid_template_areas": null,
            "grid_template_columns": null,
            "grid_template_rows": null,
            "height": null,
            "justify_content": null,
            "justify_items": null,
            "left": null,
            "margin": null,
            "max_height": null,
            "max_width": null,
            "min_height": null,
            "min_width": null,
            "object_fit": null,
            "object_position": null,
            "order": null,
            "overflow": null,
            "overflow_x": null,
            "overflow_y": null,
            "padding": null,
            "right": null,
            "top": null,
            "visibility": null,
            "width": null
          }
        },
        "127e355a8789418d9f51f3007c10ff25": {
          "model_module": "@jupyter-widgets/base",
          "model_module_version": "1.2.0",
          "model_name": "LayoutModel",
          "state": {
            "_model_module": "@jupyter-widgets/base",
            "_model_module_version": "1.2.0",
            "_model_name": "LayoutModel",
            "_view_count": null,
            "_view_module": "@jupyter-widgets/base",
            "_view_module_version": "1.2.0",
            "_view_name": "LayoutView",
            "align_content": null,
            "align_items": null,
            "align_self": null,
            "border": null,
            "bottom": null,
            "display": null,
            "flex": null,
            "flex_flow": null,
            "grid_area": null,
            "grid_auto_columns": null,
            "grid_auto_flow": null,
            "grid_auto_rows": null,
            "grid_column": null,
            "grid_gap": null,
            "grid_row": null,
            "grid_template_areas": null,
            "grid_template_columns": null,
            "grid_template_rows": null,
            "height": null,
            "justify_content": null,
            "justify_items": null,
            "left": null,
            "margin": null,
            "max_height": null,
            "max_width": null,
            "min_height": null,
            "min_width": null,
            "object_fit": null,
            "object_position": null,
            "order": null,
            "overflow": null,
            "overflow_x": null,
            "overflow_y": null,
            "padding": null,
            "right": null,
            "top": null,
            "visibility": null,
            "width": null
          }
        },
        "1dca22c45cdd47fcba78f5c3b988385b": {
          "model_module": "@jupyter-widgets/controls",
          "model_module_version": "1.5.0",
          "model_name": "DescriptionStyleModel",
          "state": {
            "_model_module": "@jupyter-widgets/controls",
            "_model_module_version": "1.5.0",
            "_model_name": "DescriptionStyleModel",
            "_view_count": null,
            "_view_module": "@jupyter-widgets/base",
            "_view_module_version": "1.2.0",
            "_view_name": "StyleView",
            "description_width": ""
          }
        },
        "2916f5c011214570a9a38805148842b8": {
          "model_module": "@jupyter-widgets/base",
          "model_module_version": "1.2.0",
          "model_name": "LayoutModel",
          "state": {
            "_model_module": "@jupyter-widgets/base",
            "_model_module_version": "1.2.0",
            "_model_name": "LayoutModel",
            "_view_count": null,
            "_view_module": "@jupyter-widgets/base",
            "_view_module_version": "1.2.0",
            "_view_name": "LayoutView",
            "align_content": null,
            "align_items": null,
            "align_self": null,
            "border": null,
            "bottom": null,
            "display": null,
            "flex": null,
            "flex_flow": null,
            "grid_area": null,
            "grid_auto_columns": null,
            "grid_auto_flow": null,
            "grid_auto_rows": null,
            "grid_column": null,
            "grid_gap": null,
            "grid_row": null,
            "grid_template_areas": null,
            "grid_template_columns": null,
            "grid_template_rows": null,
            "height": null,
            "justify_content": null,
            "justify_items": null,
            "left": null,
            "margin": null,
            "max_height": null,
            "max_width": null,
            "min_height": null,
            "min_width": null,
            "object_fit": null,
            "object_position": null,
            "order": null,
            "overflow": null,
            "overflow_x": null,
            "overflow_y": null,
            "padding": null,
            "right": null,
            "top": null,
            "visibility": null,
            "width": null
          }
        },
        "2ae22366fd344af4912f2e0d6fcf6195": {
          "model_module": "@jupyter-widgets/controls",
          "model_module_version": "1.5.0",
          "model_name": "ProgressStyleModel",
          "state": {
            "_model_module": "@jupyter-widgets/controls",
            "_model_module_version": "1.5.0",
            "_model_name": "ProgressStyleModel",
            "_view_count": null,
            "_view_module": "@jupyter-widgets/base",
            "_view_module_version": "1.2.0",
            "_view_name": "StyleView",
            "bar_color": null,
            "description_width": ""
          }
        },
        "38068b8faca943899599fed5392a34a5": {
          "model_module": "@jupyter-widgets/controls",
          "model_module_version": "1.5.0",
          "model_name": "FloatProgressModel",
          "state": {
            "_dom_classes": [],
            "_model_module": "@jupyter-widgets/controls",
            "_model_module_version": "1.5.0",
            "_model_name": "FloatProgressModel",
            "_view_count": null,
            "_view_module": "@jupyter-widgets/controls",
            "_view_module_version": "1.5.0",
            "_view_name": "ProgressView",
            "bar_style": "success",
            "description": "",
            "description_tooltip": null,
            "layout": "IPY_MODEL_d239b4b48f2946dfba103353018b3988",
            "max": 1,
            "min": 0,
            "orientation": "horizontal",
            "style": "IPY_MODEL_b9a78a8e393b4f75b7efccabb7a93739",
            "value": 1
          }
        },
        "4238be6271c9483187f76d662a5c9f2f": {
          "model_module": "@jupyter-widgets/controls",
          "model_module_version": "1.5.0",
          "model_name": "DescriptionStyleModel",
          "state": {
            "_model_module": "@jupyter-widgets/controls",
            "_model_module_version": "1.5.0",
            "_model_name": "DescriptionStyleModel",
            "_view_count": null,
            "_view_module": "@jupyter-widgets/base",
            "_view_module_version": "1.2.0",
            "_view_name": "StyleView",
            "description_width": ""
          }
        },
        "4665463715854cec9028aa3d8a3ffd6c": {
          "model_module": "@jupyter-widgets/base",
          "model_module_version": "1.2.0",
          "model_name": "LayoutModel",
          "state": {
            "_model_module": "@jupyter-widgets/base",
            "_model_module_version": "1.2.0",
            "_model_name": "LayoutModel",
            "_view_count": null,
            "_view_module": "@jupyter-widgets/base",
            "_view_module_version": "1.2.0",
            "_view_name": "LayoutView",
            "align_content": null,
            "align_items": null,
            "align_self": null,
            "border": null,
            "bottom": null,
            "display": null,
            "flex": null,
            "flex_flow": null,
            "grid_area": null,
            "grid_auto_columns": null,
            "grid_auto_flow": null,
            "grid_auto_rows": null,
            "grid_column": null,
            "grid_gap": null,
            "grid_row": null,
            "grid_template_areas": null,
            "grid_template_columns": null,
            "grid_template_rows": null,
            "height": null,
            "justify_content": null,
            "justify_items": null,
            "left": null,
            "margin": null,
            "max_height": null,
            "max_width": null,
            "min_height": null,
            "min_width": null,
            "object_fit": null,
            "object_position": null,
            "order": null,
            "overflow": null,
            "overflow_x": null,
            "overflow_y": null,
            "padding": null,
            "right": null,
            "top": null,
            "visibility": null,
            "width": null
          }
        },
        "49b53a5aa68145dfbb48ef7b1ef63807": {
          "model_module": "@jupyter-widgets/controls",
          "model_module_version": "1.5.0",
          "model_name": "DescriptionStyleModel",
          "state": {
            "_model_module": "@jupyter-widgets/controls",
            "_model_module_version": "1.5.0",
            "_model_name": "DescriptionStyleModel",
            "_view_count": null,
            "_view_module": "@jupyter-widgets/base",
            "_view_module_version": "1.2.0",
            "_view_name": "StyleView",
            "description_width": ""
          }
        },
        "64d86fce9ab0405b89a424979b098152": {
          "model_module": "@jupyter-widgets/base",
          "model_module_version": "1.2.0",
          "model_name": "LayoutModel",
          "state": {
            "_model_module": "@jupyter-widgets/base",
            "_model_module_version": "1.2.0",
            "_model_name": "LayoutModel",
            "_view_count": null,
            "_view_module": "@jupyter-widgets/base",
            "_view_module_version": "1.2.0",
            "_view_name": "LayoutView",
            "align_content": null,
            "align_items": null,
            "align_self": null,
            "border": null,
            "bottom": null,
            "display": null,
            "flex": null,
            "flex_flow": null,
            "grid_area": null,
            "grid_auto_columns": null,
            "grid_auto_flow": null,
            "grid_auto_rows": null,
            "grid_column": null,
            "grid_gap": null,
            "grid_row": null,
            "grid_template_areas": null,
            "grid_template_columns": null,
            "grid_template_rows": null,
            "height": null,
            "justify_content": null,
            "justify_items": null,
            "left": null,
            "margin": null,
            "max_height": null,
            "max_width": null,
            "min_height": null,
            "min_width": null,
            "object_fit": null,
            "object_position": null,
            "order": null,
            "overflow": null,
            "overflow_x": null,
            "overflow_y": null,
            "padding": null,
            "right": null,
            "top": null,
            "visibility": null,
            "width": null
          }
        },
        "6cf02649f343423d84fac6eb25e444b5": {
          "model_module": "@jupyter-widgets/controls",
          "model_module_version": "1.5.0",
          "model_name": "DescriptionStyleModel",
          "state": {
            "_model_module": "@jupyter-widgets/controls",
            "_model_module_version": "1.5.0",
            "_model_name": "DescriptionStyleModel",
            "_view_count": null,
            "_view_module": "@jupyter-widgets/base",
            "_view_module_version": "1.2.0",
            "_view_name": "StyleView",
            "description_width": ""
          }
        },
        "7587d7f7c2784caeb763aa92986f4d22": {
          "model_module": "@jupyter-widgets/controls",
          "model_module_version": "1.5.0",
          "model_name": "HBoxModel",
          "state": {
            "_dom_classes": [],
            "_model_module": "@jupyter-widgets/controls",
            "_model_module_version": "1.5.0",
            "_model_name": "HBoxModel",
            "_view_count": null,
            "_view_module": "@jupyter-widgets/controls",
            "_view_module_version": "1.5.0",
            "_view_name": "HBoxView",
            "box_style": "",
            "children": [
              "IPY_MODEL_bd0569a9dcc14570a856727da1444ca4",
              "IPY_MODEL_02c8d1e1d2574ce9ac6c8499b9113a91",
              "IPY_MODEL_7d0835c4a032418ba85c8e6ffb4a9307"
            ],
            "layout": "IPY_MODEL_89295054a1dc4f88a8f66ae2e27aaaa6"
          }
        },
        "7baa81995d3845d28b8de3d6bc5fc1ef": {
          "model_module": "@jupyter-widgets/controls",
          "model_module_version": "1.5.0",
          "model_name": "DescriptionStyleModel",
          "state": {
            "_model_module": "@jupyter-widgets/controls",
            "_model_module_version": "1.5.0",
            "_model_name": "DescriptionStyleModel",
            "_view_count": null,
            "_view_module": "@jupyter-widgets/base",
            "_view_module_version": "1.2.0",
            "_view_name": "StyleView",
            "description_width": ""
          }
        },
        "7d0835c4a032418ba85c8e6ffb4a9307": {
          "model_module": "@jupyter-widgets/controls",
          "model_module_version": "1.5.0",
          "model_name": "HTMLModel",
          "state": {
            "_dom_classes": [],
            "_model_module": "@jupyter-widgets/controls",
            "_model_module_version": "1.5.0",
            "_model_name": "HTMLModel",
            "_view_count": null,
            "_view_module": "@jupyter-widgets/controls",
            "_view_module_version": "1.5.0",
            "_view_name": "HTMLView",
            "description": "",
            "description_tooltip": null,
            "layout": "IPY_MODEL_2916f5c011214570a9a38805148842b8",
            "placeholder": "​",
            "style": "IPY_MODEL_7baa81995d3845d28b8de3d6bc5fc1ef",
            "value": " 16.4k/? [00:01&lt;00:00, 7.02kB/s]"
          }
        },
        "89295054a1dc4f88a8f66ae2e27aaaa6": {
          "model_module": "@jupyter-widgets/base",
          "model_module_version": "1.2.0",
          "model_name": "LayoutModel",
          "state": {
            "_model_module": "@jupyter-widgets/base",
            "_model_module_version": "1.2.0",
            "_model_name": "LayoutModel",
            "_view_count": null,
            "_view_module": "@jupyter-widgets/base",
            "_view_module_version": "1.2.0",
            "_view_name": "LayoutView",
            "align_content": null,
            "align_items": null,
            "align_self": null,
            "border": null,
            "bottom": null,
            "display": null,
            "flex": null,
            "flex_flow": null,
            "grid_area": null,
            "grid_auto_columns": null,
            "grid_auto_flow": null,
            "grid_auto_rows": null,
            "grid_column": null,
            "grid_gap": null,
            "grid_row": null,
            "grid_template_areas": null,
            "grid_template_columns": null,
            "grid_template_rows": null,
            "height": null,
            "justify_content": null,
            "justify_items": null,
            "left": null,
            "margin": null,
            "max_height": null,
            "max_width": null,
            "min_height": null,
            "min_width": null,
            "object_fit": null,
            "object_position": null,
            "order": null,
            "overflow": null,
            "overflow_x": null,
            "overflow_y": null,
            "padding": null,
            "right": null,
            "top": null,
            "visibility": null,
            "width": null
          }
        },
        "8bce38e6e6164530ab839ee45c93ba8d": {
          "model_module": "@jupyter-widgets/controls",
          "model_module_version": "1.5.0",
          "model_name": "HTMLModel",
          "state": {
            "_dom_classes": [],
            "_model_module": "@jupyter-widgets/controls",
            "_model_module_version": "1.5.0",
            "_model_name": "HTMLModel",
            "_view_count": null,
            "_view_module": "@jupyter-widgets/controls",
            "_view_module_version": "1.5.0",
            "_view_name": "HTMLView",
            "description": "",
            "description_tooltip": null,
            "layout": "IPY_MODEL_64d86fce9ab0405b89a424979b098152",
            "placeholder": "​",
            "style": "IPY_MODEL_fd7c6a660de247ce82ec23481fdb5832",
            "value": " 1.99M/? [00:00&lt;00:00, 3.11MB/s]"
          }
        },
        "9178331d0afd4131a00a97ca2fa2f6e3": {
          "model_module": "@jupyter-widgets/controls",
          "model_module_version": "1.5.0",
          "model_name": "HBoxModel",
          "state": {
            "_dom_classes": [],
            "_model_module": "@jupyter-widgets/controls",
            "_model_module_version": "1.5.0",
            "_model_name": "HBoxModel",
            "_view_count": null,
            "_view_module": "@jupyter-widgets/controls",
            "_view_module_version": "1.5.0",
            "_view_name": "HBoxView",
            "box_style": "",
            "children": [
              "IPY_MODEL_96eb392e9f3346cb883a166425d08e28",
              "IPY_MODEL_fd3dfb45f1ad4f36a8aff0e8bfe0b391",
              "IPY_MODEL_ba6583d4a808407f974dad86adfc0507"
            ],
            "layout": "IPY_MODEL_4665463715854cec9028aa3d8a3ffd6c"
          }
        },
        "96eb392e9f3346cb883a166425d08e28": {
          "model_module": "@jupyter-widgets/controls",
          "model_module_version": "1.5.0",
          "model_name": "HTMLModel",
          "state": {
            "_dom_classes": [],
            "_model_module": "@jupyter-widgets/controls",
            "_model_module_version": "1.5.0",
            "_model_name": "HTMLModel",
            "_view_count": null,
            "_view_module": "@jupyter-widgets/controls",
            "_view_module_version": "1.5.0",
            "_view_name": "HTMLView",
            "description": "",
            "description_tooltip": null,
            "layout": "IPY_MODEL_113d5dfb59c64231afa5d9424152feb3",
            "placeholder": "​",
            "style": "IPY_MODEL_6cf02649f343423d84fac6eb25e444b5",
            "value": ""
          }
        },
        "b7f8d01e14b447388ef41e4189138e23": {
          "model_module": "@jupyter-widgets/base",
          "model_module_version": "1.2.0",
          "model_name": "LayoutModel",
          "state": {
            "_model_module": "@jupyter-widgets/base",
            "_model_module_version": "1.2.0",
            "_model_name": "LayoutModel",
            "_view_count": null,
            "_view_module": "@jupyter-widgets/base",
            "_view_module_version": "1.2.0",
            "_view_name": "LayoutView",
            "align_content": null,
            "align_items": null,
            "align_self": null,
            "border": null,
            "bottom": null,
            "display": null,
            "flex": null,
            "flex_flow": null,
            "grid_area": null,
            "grid_auto_columns": null,
            "grid_auto_flow": null,
            "grid_auto_rows": null,
            "grid_column": null,
            "grid_gap": null,
            "grid_row": null,
            "grid_template_areas": null,
            "grid_template_columns": null,
            "grid_template_rows": null,
            "height": null,
            "justify_content": null,
            "justify_items": null,
            "left": null,
            "margin": null,
            "max_height": null,
            "max_width": null,
            "min_height": null,
            "min_width": null,
            "object_fit": null,
            "object_position": null,
            "order": null,
            "overflow": null,
            "overflow_x": null,
            "overflow_y": null,
            "padding": null,
            "right": null,
            "top": null,
            "visibility": null,
            "width": "20px"
          }
        },
        "b9a78a8e393b4f75b7efccabb7a93739": {
          "model_module": "@jupyter-widgets/controls",
          "model_module_version": "1.5.0",
          "model_name": "ProgressStyleModel",
          "state": {
            "_model_module": "@jupyter-widgets/controls",
            "_model_module_version": "1.5.0",
            "_model_name": "ProgressStyleModel",
            "_view_count": null,
            "_view_module": "@jupyter-widgets/base",
            "_view_module_version": "1.2.0",
            "_view_name": "StyleView",
            "bar_color": null,
            "description_width": ""
          }
        },
        "ba6583d4a808407f974dad86adfc0507": {
          "model_module": "@jupyter-widgets/controls",
          "model_module_version": "1.5.0",
          "model_name": "HTMLModel",
          "state": {
            "_dom_classes": [],
            "_model_module": "@jupyter-widgets/controls",
            "_model_module_version": "1.5.0",
            "_model_name": "HTMLModel",
            "_view_count": null,
            "_view_module": "@jupyter-widgets/controls",
            "_view_module_version": "1.5.0",
            "_view_name": "HTMLView",
            "description": "",
            "description_tooltip": null,
            "layout": "IPY_MODEL_0c65ac88f7fa4f638ec15c36ce084baa",
            "placeholder": "​",
            "style": "IPY_MODEL_49b53a5aa68145dfbb48ef7b1ef63807",
            "value": " 246k/? [00:00&lt;00:00, 69.3kB/s]"
          }
        },
        "bc382427d1784fb2ad9a958907390d77": {
          "model_module": "@jupyter-widgets/controls",
          "model_module_version": "1.5.0",
          "model_name": "ProgressStyleModel",
          "state": {
            "_model_module": "@jupyter-widgets/controls",
            "_model_module_version": "1.5.0",
            "_model_name": "ProgressStyleModel",
            "_view_count": null,
            "_view_module": "@jupyter-widgets/base",
            "_view_module_version": "1.2.0",
            "_view_name": "StyleView",
            "bar_color": null,
            "description_width": ""
          }
        },
        "bd0569a9dcc14570a856727da1444ca4": {
          "model_module": "@jupyter-widgets/controls",
          "model_module_version": "1.5.0",
          "model_name": "HTMLModel",
          "state": {
            "_dom_classes": [],
            "_model_module": "@jupyter-widgets/controls",
            "_model_module_version": "1.5.0",
            "_model_name": "HTMLModel",
            "_view_count": null,
            "_view_module": "@jupyter-widgets/controls",
            "_view_module_version": "1.5.0",
            "_view_name": "HTMLView",
            "description": "",
            "description_tooltip": null,
            "layout": "IPY_MODEL_bfcc2024cbb949caa462326c2eca5292",
            "placeholder": "​",
            "style": "IPY_MODEL_4238be6271c9483187f76d662a5c9f2f",
            "value": ""
          }
        },
        "bfcc2024cbb949caa462326c2eca5292": {
          "model_module": "@jupyter-widgets/base",
          "model_module_version": "1.2.0",
          "model_name": "LayoutModel",
          "state": {
            "_model_module": "@jupyter-widgets/base",
            "_model_module_version": "1.2.0",
            "_model_name": "LayoutModel",
            "_view_count": null,
            "_view_module": "@jupyter-widgets/base",
            "_view_module_version": "1.2.0",
            "_view_name": "LayoutView",
            "align_content": null,
            "align_items": null,
            "align_self": null,
            "border": null,
            "bottom": null,
            "display": null,
            "flex": null,
            "flex_flow": null,
            "grid_area": null,
            "grid_auto_columns": null,
            "grid_auto_flow": null,
            "grid_auto_rows": null,
            "grid_column": null,
            "grid_gap": null,
            "grid_row": null,
            "grid_template_areas": null,
            "grid_template_columns": null,
            "grid_template_rows": null,
            "height": null,
            "justify_content": null,
            "justify_items": null,
            "left": null,
            "margin": null,
            "max_height": null,
            "max_width": null,
            "min_height": null,
            "min_width": null,
            "object_fit": null,
            "object_position": null,
            "order": null,
            "overflow": null,
            "overflow_x": null,
            "overflow_y": null,
            "padding": null,
            "right": null,
            "top": null,
            "visibility": null,
            "width": null
          }
        },
        "c9f2fd8bb4a9479483648d30d1efb481": {
          "model_module": "@jupyter-widgets/base",
          "model_module_version": "1.2.0",
          "model_name": "LayoutModel",
          "state": {
            "_model_module": "@jupyter-widgets/base",
            "_model_module_version": "1.2.0",
            "_model_name": "LayoutModel",
            "_view_count": null,
            "_view_module": "@jupyter-widgets/base",
            "_view_module_version": "1.2.0",
            "_view_name": "LayoutView",
            "align_content": null,
            "align_items": null,
            "align_self": null,
            "border": null,
            "bottom": null,
            "display": null,
            "flex": null,
            "flex_flow": null,
            "grid_area": null,
            "grid_auto_columns": null,
            "grid_auto_flow": null,
            "grid_auto_rows": null,
            "grid_column": null,
            "grid_gap": null,
            "grid_row": null,
            "grid_template_areas": null,
            "grid_template_columns": null,
            "grid_template_rows": null,
            "height": null,
            "justify_content": null,
            "justify_items": null,
            "left": null,
            "margin": null,
            "max_height": null,
            "max_width": null,
            "min_height": null,
            "min_width": null,
            "object_fit": null,
            "object_position": null,
            "order": null,
            "overflow": null,
            "overflow_x": null,
            "overflow_y": null,
            "padding": null,
            "right": null,
            "top": null,
            "visibility": null,
            "width": null
          }
        },
        "d239b4b48f2946dfba103353018b3988": {
          "model_module": "@jupyter-widgets/base",
          "model_module_version": "1.2.0",
          "model_name": "LayoutModel",
          "state": {
            "_model_module": "@jupyter-widgets/base",
            "_model_module_version": "1.2.0",
            "_model_name": "LayoutModel",
            "_view_count": null,
            "_view_module": "@jupyter-widgets/base",
            "_view_module_version": "1.2.0",
            "_view_name": "LayoutView",
            "align_content": null,
            "align_items": null,
            "align_self": null,
            "border": null,
            "bottom": null,
            "display": null,
            "flex": null,
            "flex_flow": null,
            "grid_area": null,
            "grid_auto_columns": null,
            "grid_auto_flow": null,
            "grid_auto_rows": null,
            "grid_column": null,
            "grid_gap": null,
            "grid_row": null,
            "grid_template_areas": null,
            "grid_template_columns": null,
            "grid_template_rows": null,
            "height": null,
            "justify_content": null,
            "justify_items": null,
            "left": null,
            "margin": null,
            "max_height": null,
            "max_width": null,
            "min_height": null,
            "min_width": null,
            "object_fit": null,
            "object_position": null,
            "order": null,
            "overflow": null,
            "overflow_x": null,
            "overflow_y": null,
            "padding": null,
            "right": null,
            "top": null,
            "visibility": null,
            "width": "20px"
          }
        },
        "ebf784f86ca742f78de7966e878a5fa3": {
          "model_module": "@jupyter-widgets/base",
          "model_module_version": "1.2.0",
          "model_name": "LayoutModel",
          "state": {
            "_model_module": "@jupyter-widgets/base",
            "_model_module_version": "1.2.0",
            "_model_name": "LayoutModel",
            "_view_count": null,
            "_view_module": "@jupyter-widgets/base",
            "_view_module_version": "1.2.0",
            "_view_name": "LayoutView",
            "align_content": null,
            "align_items": null,
            "align_self": null,
            "border": null,
            "bottom": null,
            "display": null,
            "flex": null,
            "flex_flow": null,
            "grid_area": null,
            "grid_auto_columns": null,
            "grid_auto_flow": null,
            "grid_auto_rows": null,
            "grid_column": null,
            "grid_gap": null,
            "grid_row": null,
            "grid_template_areas": null,
            "grid_template_columns": null,
            "grid_template_rows": null,
            "height": null,
            "justify_content": null,
            "justify_items": null,
            "left": null,
            "margin": null,
            "max_height": null,
            "max_width": null,
            "min_height": null,
            "min_width": null,
            "object_fit": null,
            "object_position": null,
            "order": null,
            "overflow": null,
            "overflow_x": null,
            "overflow_y": null,
            "padding": null,
            "right": null,
            "top": null,
            "visibility": null,
            "width": "20px"
          }
        },
        "fd3dfb45f1ad4f36a8aff0e8bfe0b391": {
          "model_module": "@jupyter-widgets/controls",
          "model_module_version": "1.5.0",
          "model_name": "FloatProgressModel",
          "state": {
            "_dom_classes": [],
            "_model_module": "@jupyter-widgets/controls",
            "_model_module_version": "1.5.0",
            "_model_name": "FloatProgressModel",
            "_view_count": null,
            "_view_module": "@jupyter-widgets/controls",
            "_view_module_version": "1.5.0",
            "_view_name": "ProgressView",
            "bar_style": "success",
            "description": "",
            "description_tooltip": null,
            "layout": "IPY_MODEL_b7f8d01e14b447388ef41e4189138e23",
            "max": 1,
            "min": 0,
            "orientation": "horizontal",
            "style": "IPY_MODEL_2ae22366fd344af4912f2e0d6fcf6195",
            "value": 1
          }
        },
        "fd7c6a660de247ce82ec23481fdb5832": {
          "model_module": "@jupyter-widgets/controls",
          "model_module_version": "1.5.0",
          "model_name": "DescriptionStyleModel",
          "state": {
            "_model_module": "@jupyter-widgets/controls",
            "_model_module_version": "1.5.0",
            "_model_name": "DescriptionStyleModel",
            "_view_count": null,
            "_view_module": "@jupyter-widgets/base",
            "_view_module_version": "1.2.0",
            "_view_name": "StyleView",
            "description_width": ""
          }
        },
        "fe12393227844c01874654efdb771caa": {
          "model_module": "@jupyter-widgets/controls",
          "model_module_version": "1.5.0",
          "model_name": "HTMLModel",
          "state": {
            "_dom_classes": [],
            "_model_module": "@jupyter-widgets/controls",
            "_model_module_version": "1.5.0",
            "_model_name": "HTMLModel",
            "_view_count": null,
            "_view_module": "@jupyter-widgets/controls",
            "_view_module_version": "1.5.0",
            "_view_name": "HTMLView",
            "description": "",
            "description_tooltip": null,
            "layout": "IPY_MODEL_c9f2fd8bb4a9479483648d30d1efb481",
            "placeholder": "​",
            "style": "IPY_MODEL_1dca22c45cdd47fcba78f5c3b988385b",
            "value": ""
          }
        }
      }
    }
  },
  "nbformat": 4,
  "nbformat_minor": 0
}
