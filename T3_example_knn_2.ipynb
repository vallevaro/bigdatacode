{
 "cells": [
  {
   "cell_type": "markdown",
   "metadata": {},
   "source": [
    "## 3.1 KNN Clustering Example 2 (ASTEROIDS)"
   ]
  },
  {
   "cell_type": "code",
   "execution_count": 1,
   "metadata": {},
   "outputs": [],
   "source": [
    "import numpy as np\n",
    "import pandas as pd\n",
    "import matplotlib.pyplot as plt"
   ]
  },
  {
   "cell_type": "code",
   "execution_count": 2,
   "metadata": {},
   "outputs": [],
   "source": [
    "data = pd.read_csv('asteroids_dataset.csv', low_memory=False)"
   ]
  },
  {
   "cell_type": "code",
   "execution_count": 3,
   "metadata": {},
   "outputs": [
    {
     "data": {
      "text/plain": [
       "id                     0\n",
       "spkid                  0\n",
       "full_name              0\n",
       "pdes                   0\n",
       "name              936460\n",
       "prefix            958506\n",
       "neo                    4\n",
       "pha                19921\n",
       "H                   6263\n",
       "diameter          822315\n",
       "albedo            823421\n",
       "diameter_sigma    822443\n",
       "orbit_id               0\n",
       "epoch                  0\n",
       "epoch_mjd              0\n",
       "epoch_cal              0\n",
       "equinox                0\n",
       "e                      0\n",
       "a                      0\n",
       "q                      0\n",
       "i                      0\n",
       "om                     0\n",
       "w                      0\n",
       "ma                     1\n",
       "ad                     4\n",
       "n                      0\n",
       "tp                     0\n",
       "tp_cal                 0\n",
       "per                    4\n",
       "per_y                  1\n",
       "moid               19921\n",
       "moid_ld              127\n",
       "sigma_e            19922\n",
       "sigma_a            19922\n",
       "sigma_q            19922\n",
       "sigma_i            19922\n",
       "sigma_om           19922\n",
       "sigma_w            19922\n",
       "sigma_ma           19922\n",
       "sigma_ad           19926\n",
       "sigma_n            19922\n",
       "sigma_tp           19922\n",
       "sigma_per          19926\n",
       "class                  0\n",
       "rms                    2\n",
       "dtype: int64"
      ]
     },
     "execution_count": 3,
     "metadata": {},
     "output_type": "execute_result"
    }
   ],
   "source": [
    "data.isnull().sum()"
   ]
  },
  {
   "cell_type": "code",
   "execution_count": 4,
   "metadata": {},
   "outputs": [],
   "source": [
    "#dropping features with too many missing value and id, spkid and full_name\n",
    "data.drop(['name','prefix','diameter','albedo','diameter_sigma','id','spkid','full_name'],axis=1,inplace=True)"
   ]
  },
  {
   "cell_type": "code",
   "execution_count": 5,
   "metadata": {},
   "outputs": [
    {
     "data": {
      "text/plain": [
       "(958524, 37)"
      ]
     },
     "execution_count": 5,
     "metadata": {},
     "output_type": "execute_result"
    }
   ],
   "source": [
    "data.shape"
   ]
  },
  {
   "cell_type": "code",
   "execution_count": 6,
   "metadata": {},
   "outputs": [
    {
     "name": "stdout",
     "output_type": "stream",
     "text": [
      "<class 'pandas.core.frame.DataFrame'>\n",
      "RangeIndex: 958524 entries, 0 to 958523\n",
      "Data columns (total 37 columns):\n",
      " #   Column     Non-Null Count   Dtype  \n",
      "---  ------     --------------   -----  \n",
      " 0   pdes       958524 non-null  object \n",
      " 1   neo        958520 non-null  object \n",
      " 2   pha        938603 non-null  object \n",
      " 3   H          952261 non-null  float64\n",
      " 4   orbit_id   958524 non-null  object \n",
      " 5   epoch      958524 non-null  float64\n",
      " 6   epoch_mjd  958524 non-null  int64  \n",
      " 7   epoch_cal  958524 non-null  float64\n",
      " 8   equinox    958524 non-null  object \n",
      " 9   e          958524 non-null  float64\n",
      " 10  a          958524 non-null  float64\n",
      " 11  q          958524 non-null  float64\n",
      " 12  i          958524 non-null  float64\n",
      " 13  om         958524 non-null  float64\n",
      " 14  w          958524 non-null  float64\n",
      " 15  ma         958523 non-null  float64\n",
      " 16  ad         958520 non-null  float64\n",
      " 17  n          958524 non-null  float64\n",
      " 18  tp         958524 non-null  float64\n",
      " 19  tp_cal     958524 non-null  float64\n",
      " 20  per        958520 non-null  float64\n",
      " 21  per_y      958523 non-null  float64\n",
      " 22  moid       938603 non-null  float64\n",
      " 23  moid_ld    958397 non-null  float64\n",
      " 24  sigma_e    938602 non-null  float64\n",
      " 25  sigma_a    938602 non-null  float64\n",
      " 26  sigma_q    938602 non-null  float64\n",
      " 27  sigma_i    938602 non-null  float64\n",
      " 28  sigma_om   938602 non-null  float64\n",
      " 29  sigma_w    938602 non-null  float64\n",
      " 30  sigma_ma   938602 non-null  float64\n",
      " 31  sigma_ad   938598 non-null  float64\n",
      " 32  sigma_n    938602 non-null  float64\n",
      " 33  sigma_tp   938602 non-null  float64\n",
      " 34  sigma_per  938598 non-null  float64\n",
      " 35  class      958524 non-null  object \n",
      " 36  rms        958522 non-null  float64\n",
      "dtypes: float64(30), int64(1), object(6)\n",
      "memory usage: 270.6+ MB\n"
     ]
    }
   ],
   "source": [
    "data.info()"
   ]
  },
  {
   "cell_type": "code",
   "execution_count": 7,
   "metadata": {},
   "outputs": [],
   "source": [
    "# to classify by pha\n",
    "ytarget = data['class']\n",
    "\n",
    "Xdata = data.select_dtypes(exclude=['object'])\n",
    "Xdata.dropna(inplace=True)\n"
   ]
  },
  {
   "cell_type": "code",
   "execution_count": 8,
   "metadata": {},
   "outputs": [
    {
     "data": {
      "text/plain": [
       "array(['MBA', 'OMB', 'MCA', 'AMO', 'IMB', 'TJN', 'CEN', 'APO', 'ATE',\n",
       "       'AST', 'TNO', 'IEO', 'HYA'], dtype=object)"
      ]
     },
     "execution_count": 8,
     "metadata": {},
     "output_type": "execute_result"
    }
   ],
   "source": [
    "ytarget.unique()"
   ]
  },
  {
   "cell_type": "code",
   "execution_count": 9,
   "metadata": {},
   "outputs": [
    {
     "data": {
      "text/plain": [
       "array([0.15007038, 0.28156725, 0.39646047, 0.501926  , 0.59136973,\n",
       "       0.65431242, 0.70126095, 0.74121873, 0.77797238, 0.81178762,\n",
       "       0.84402051, 0.8731902 , 0.90095384, 0.92493218, 0.94778676,\n",
       "       0.96988617, 0.98163044, 0.9929652 , 0.99661852, 0.99891051,\n",
       "       0.99982998, 0.99988643, 0.99993227, 0.99997521, 0.99999342,\n",
       "       1.        , 1.        ])"
      ]
     },
     "execution_count": 9,
     "metadata": {},
     "output_type": "execute_result"
    }
   ],
   "source": [
    "# PCA\n",
    "from sklearn.preprocessing import StandardScaler\n",
    "from sklearn.decomposition import PCA\n",
    "\n",
    "X_std = StandardScaler().fit_transform(Xdata)\n",
    "X_rank = np.linalg.matrix_rank(X_std)\n",
    "pca = PCA(n_components=X_rank)\n",
    "X_transformed = pca.fit_transform(X_std)\n",
    "cum_variance_explained = pca.explained_variance_ratio_.cumsum()\n",
    "cum_variance_explained"
   ]
  },
  {
   "cell_type": "code",
   "execution_count": 10,
   "metadata": {},
   "outputs": [
    {
     "name": "stdout",
     "output_type": "stream",
     "text": [
      "Number of latent dimensions for pca: 16\n"
     ]
    }
   ],
   "source": [
    "import numpy as np\n",
    "\n",
    "THRESHOLD = .95\n",
    "idx = np.where(np.cumsum(pca.explained_variance_ratio_)>THRESHOLD)[0][0]\n",
    "\n",
    "num_latent_dim = idx + 1\n",
    "pca = PCA(n_components=num_latent_dim)\n",
    "X_pca = pca.fit_transform(X_std)\n",
    "print('Number of latent dimensions for pca: ' + str(num_latent_dim))"
   ]
  },
  {
   "cell_type": "code",
   "execution_count": 24,
   "metadata": {},
   "outputs": [],
   "source": [
    "from sklearn.cluster import KMeans\n",
    "\n",
    "Ks = range(2, 16)\n",
    "kmeans_per_k = [KMeans(n_clusters=k, n_init=10, random_state=42).fit(X_pca) for k in Ks]\n",
    "inertias = [model.inertia_ for model in kmeans_per_k]"
   ]
  },
  {
   "cell_type": "code",
   "execution_count": 25,
   "metadata": {},
   "outputs": [
    {
     "data": {
      "image/png": "[encoded data removed]",
      "text/plain": [
       "<Figure size 640x480 with 1 Axes>"
      ]
     },
     "metadata": {},
     "output_type": "display_data"
    }
   ],
   "source": [
    "plt.figure()\n",
    "plt.plot(Ks, inertias, \"bo-\")\n",
    "plt.xlabel(\"$k$\", fontsize=14)\n",
    "plt.ylabel(\"Distortion\", fontsize=14)\n",
    "plt.tight_layout()\n",
    "plt.show()"
   ]
  },
  {
   "cell_type": "code",
   "execution_count": 43,
   "metadata": {},
   "outputs": [],
   "source": [
    "# from sklearn.metrics import silhouette_score\n",
    "# silhouette_scores = [silhouette_score(X_pca, model.labels_) for model in kmeans_per_k]"
   ]
  },
  {
   "cell_type": "code",
   "execution_count": 44,
   "metadata": {},
   "outputs": [],
   "source": [
    "# plt.figure()\n",
    "# plt.plot(Ks, silhouette_scores, \"bo-\")\n",
    "# plt.xlabel(\"$k$\", fontsize=14)\n",
    "# plt.ylabel(\"Silhouette score\", fontsize=14)\n",
    "# plt.tight_layout()\n",
    "# plt.show()"
   ]
  },
  {
   "cell_type": "code",
   "execution_count": 26,
   "metadata": {},
   "outputs": [],
   "source": [
    "# KMEANS \n",
    "NUM_CLUSTERS = 12\n",
    "kmeans = KMeans(n_clusters=NUM_CLUSTERS, n_init=10, random_state=29, algorithm='lloyd').fit(X_pca)"
   ]
  },
  {
   "cell_type": "code",
   "execution_count": 27,
   "metadata": {},
   "outputs": [],
   "source": [
    "labels = kmeans.labels_ \n",
    "clu_cen = kmeans.cluster_centers_\n",
    "\n",
    "X_predicted = Xdata.copy()\n",
    "X_predicted['cluster_1'] = labels"
   ]
  },
  {
   "cell_type": "code",
   "execution_count": 28,
   "metadata": {},
   "outputs": [
    {
     "data": {
      "text/plain": [
       "array(['MBA', 'OMB', 'MCA', 'AMO', 'IMB', 'TJN', 'CEN', 'APO', 'ATE',\n",
       "       'AST', 'TNO', 'IEO', 'HYA'], dtype=object)"
      ]
     },
     "execution_count": 28,
     "metadata": {},
     "output_type": "execute_result"
    }
   ],
   "source": [
    "ytarget.unique()"
   ]
  },
  {
   "cell_type": "code",
   "execution_count": 29,
   "metadata": {},
   "outputs": [],
   "source": [
    "names = ytarget.unique()\n",
    "\n",
    "def cluster_label(alpha, names):\n",
    "    for idx, i in enumerate(names): \n",
    "        if alpha == idx: \n",
    "            return i"
   ]
  },
  {
   "cell_type": "code",
   "execution_count": 30,
   "metadata": {},
   "outputs": [],
   "source": [
    "clusters = [[] for i in range(0, NUM_CLUSTERS)]\n",
    "for (i, l) in enumerate(labels):\n",
    "    clusters[l].append(i)"
   ]
  },
  {
   "cell_type": "code",
   "execution_count": 31,
   "metadata": {},
   "outputs": [],
   "source": [
    "X_predicted['predicted_cluster_label']=X_predicted['cluster_1'].apply(lambda alpha: cluster_label(alpha, names))"
   ]
  },
  {
   "cell_type": "code",
   "execution_count": 32,
   "metadata": {},
   "outputs": [],
   "source": [
    "ytarget_predicted = X_predicted['predicted_cluster_label']\n",
    "X_predicted['real_cluster_label'] = ytarget "
   ]
  },
  {
   "cell_type": "code",
   "execution_count": 33,
   "metadata": {},
   "outputs": [],
   "source": [
    "from sklearn import metrics\n",
    "\n",
    "def purity_score(y_true, y_pred):\n",
    "    contingency_matrix = metrics.cluster.contingency_matrix(y_true, y_pred)\n",
    "    return np.sum(np.amax(contingency_matrix, axis=0)) / np.sum(contingency_matrix) "
   ]
  },
  {
   "cell_type": "code",
   "execution_count": 41,
   "metadata": {},
   "outputs": [
    {
     "data": {
      "text/plain": [
       "0         MBA\n",
       "1         MBA\n",
       "2         MBA\n",
       "3         MBA\n",
       "4         MBA\n",
       "         ... \n",
       "958519    MBA\n",
       "958520    MBA\n",
       "958521    APO\n",
       "958522    MBA\n",
       "958523    MBA\n",
       "Name: real_cluster_label, Length: 932335, dtype: object"
      ]
     },
     "execution_count": 41,
     "metadata": {},
     "output_type": "execute_result"
    }
   ],
   "source": [
    "X_predicted['real_cluster_label']"
   ]
  },
  {
   "cell_type": "code",
   "execution_count": 34,
   "metadata": {},
   "outputs": [
    {
     "data": {
      "text/plain": [
       "0.8966444464704211"
      ]
     },
     "execution_count": 34,
     "metadata": {},
     "output_type": "execute_result"
    }
   ],
   "source": [
    "purity_score(X_predicted['real_cluster_label'], X_predicted['predicted_cluster_label'])"
   ]
  },
  {
   "cell_type": "code",
   "execution_count": 35,
   "metadata": {},
   "outputs": [
    {
     "data": {
      "text/plain": [
       "0.028862557078610677"
      ]
     },
     "execution_count": 35,
     "metadata": {},
     "output_type": "execute_result"
    }
   ],
   "source": [
    "from sklearn.metrics.cluster import adjusted_rand_score\n",
    "adjusted_rand_score(X_predicted['real_cluster_label'], X_predicted['predicted_cluster_label'])"
   ]
  },
  {
   "cell_type": "code",
   "execution_count": 36,
   "metadata": {},
   "outputs": [
    {
     "data": {
      "text/plain": [
       "0.06201110486687321"
      ]
     },
     "execution_count": 36,
     "metadata": {},
     "output_type": "execute_result"
    }
   ],
   "source": [
    "from sklearn.metrics.cluster import normalized_mutual_info_score\n",
    "normalized_mutual_info_score(X_predicted['real_cluster_label'], X_predicted['predicted_cluster_label'])"
   ]
  },
  {
   "cell_type": "code",
   "execution_count": null,
   "metadata": {},
   "outputs": [],
   "source": []
  }
 ],
 "metadata": {
  "kernelspec": {
   "display_name": "envml3",
   "language": "python",
   "name": "python3"
  },
  "language_info": {
   "codemirror_mode": {
    "name": "ipython",
    "version": 3
   },
   "file_extension": ".py",
   "mimetype": "text/x-python",
   "name": "python",
   "nbconvert_exporter": "python",
   "pygments_lexer": "ipython3",
   "version": "3.1.0"
  }
 },
 "nbformat": 4,
 "nbformat_minor": 2
}
